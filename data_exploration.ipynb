{
 "cells": [
  {
   "cell_type": "markdown",
   "metadata": {},
   "source": [
    "# Data Exploration\n",
    "Lorenzo Antolini, Simone Lu, Enrico Romano, Luca Schisano\n"
   ]
  },
  {
   "cell_type": "code",
   "execution_count": 1,
   "metadata": {},
   "outputs": [],
   "source": [
    "import pandas as pd\n",
    "import numpy as np\n",
    "from kmodes.kmodes import KModes\n",
    "from kmodes.kprototypes import KPrototypes\n",
    "import matplotlib.pyplot as plt\n",
    "from sklearn.cluster import KMeans\n",
    "import seaborn as sns\n",
    "from mpl_toolkits.mplot3d import Axes3D\n",
    "from sklearn.metrics.pairwise import cosine_similarity\n",
    "from sklearn.model_selection import train_test_split\n",
    "from sklearn.neighbors import NearestNeighbors\n",
    "#from sklearn.externals import joblib\n",
    "import scipy.sparse\n",
    "from scipy.sparse import csr_matrix\n",
    "import warnings; warnings.simplefilter('ignore')\n",
    "%matplotlib inline\n",
    "%matplotlib inline"
   ]
  },
  {
   "cell_type": "code",
   "execution_count": 2,
   "metadata": {},
   "outputs": [],
   "source": [
    "# assign dataset names\n",
    "list_of_names = ['01.geo','02.customers','03.sellers','04.order_status','05.order_items',\n",
    "                '06.order_payments','07.product_reviews','08.products']\n",
    "  \n",
    "# create empty list\n",
    "df = []\n",
    "  \n",
    "# append datasets into the list\n",
    "for i in range(len(list_of_names)):\n",
    "    temp_df = pd.read_csv (list_of_names [i] + \".csv\", encoding=\"ISO-8859-1\",delimiter = \";\")\n",
    "    df.append(temp_df)"
   ]
  },
  {
   "cell_type": "code",
   "execution_count": 3,
   "metadata": {},
   "outputs": [],
   "source": [
    "df1 =df[0] \n",
    "df2 =df[1] \n",
    "df3 =df[2]  \n",
    "df4 =df[3]  \n",
    "df5 =df[4]\n",
    "df6 =df[5]\n",
    "df7 =df[6]\n",
    "df8 =df[7]"
   ]
  },
  {
   "cell_type": "markdown",
   "metadata": {},
   "source": [
    "#### Now, we start to merge the datasets"
   ]
  },
  {
   "cell_type": "code",
   "execution_count": 4,
   "metadata": {},
   "outputs": [],
   "source": [
    "df_orders=pd.merge(df4,df2,on='customer_id')"
   ]
  },
  {
   "cell_type": "code",
   "execution_count": 5,
   "metadata": {},
   "outputs": [],
   "source": [
    "merged=pd.merge(df_orders,df7,on='order_id')"
   ]
  },
  {
   "cell_type": "code",
   "execution_count": 6,
   "metadata": {},
   "outputs": [],
   "source": [
    "df_final=pd.merge(merged,df8,on='product_id')"
   ]
  },
  {
   "cell_type": "code",
   "execution_count": 7,
   "metadata": {},
   "outputs": [],
   "source": [
    "df_final = pd.merge(df_final, df5, on='order_id')\n"
   ]
  },
  {
   "cell_type": "code",
   "execution_count": 8,
   "metadata": {},
   "outputs": [
    {
     "data": {
      "text/html": [
       "<div>\n",
       "<style scoped>\n",
       "    .dataframe tbody tr th:only-of-type {\n",
       "        vertical-align: middle;\n",
       "    }\n",
       "\n",
       "    .dataframe tbody tr th {\n",
       "        vertical-align: top;\n",
       "    }\n",
       "\n",
       "    .dataframe thead th {\n",
       "        text-align: right;\n",
       "    }\n",
       "</style>\n",
       "<table border=\"1\" class=\"dataframe\">\n",
       "  <thead>\n",
       "    <tr style=\"text-align: right;\">\n",
       "      <th></th>\n",
       "      <th>order_id</th>\n",
       "      <th>customer_id</th>\n",
       "      <th>order_status</th>\n",
       "      <th>ts_order_purchase</th>\n",
       "      <th>ts_order_approved</th>\n",
       "      <th>ts_order_delivered_carrier</th>\n",
       "      <th>ts_order_delivered_customer</th>\n",
       "      <th>ts_order_estimated_delivery</th>\n",
       "      <th>customer_unique_id</th>\n",
       "      <th>customer_autonomous_community</th>\n",
       "      <th>...</th>\n",
       "      <th>product_length_cm</th>\n",
       "      <th>product_height_cm</th>\n",
       "      <th>product_width_cm</th>\n",
       "      <th>product_photo_quantity</th>\n",
       "      <th>order_item_sequence_id</th>\n",
       "      <th>product_id_y</th>\n",
       "      <th>price</th>\n",
       "      <th>shipping_cost</th>\n",
       "      <th>seller_id</th>\n",
       "      <th>max_shipping_seller_date</th>\n",
       "    </tr>\n",
       "  </thead>\n",
       "  <tbody>\n",
       "    <tr>\n",
       "      <th>0</th>\n",
       "      <td>e481f51cbdc54678b7cc49136f2d6af7</td>\n",
       "      <td>9ef432eb6251297304e76186b10a928d</td>\n",
       "      <td>delivered</td>\n",
       "      <td>02/10/2018 10:56</td>\n",
       "      <td>02/10/2018 11:07</td>\n",
       "      <td>04/10/2018 19:55</td>\n",
       "      <td>10/10/2018 21:25</td>\n",
       "      <td>18/10/2018 00:00</td>\n",
       "      <td>7c396fd4830fd04220f754e42b4e5bff</td>\n",
       "      <td>Comunidad de Madrid</td>\n",
       "      <td>...</td>\n",
       "      <td>19.0</td>\n",
       "      <td>8.0</td>\n",
       "      <td>13.0</td>\n",
       "      <td>4.0</td>\n",
       "      <td>1</td>\n",
       "      <td>87285b34884572647811a353c7ac498a</td>\n",
       "      <td>29.99</td>\n",
       "      <td>8.72</td>\n",
       "      <td>3504c0cb71d7fa48d967e0e4c94d59d9</td>\n",
       "      <td>06/10/2018 11:07</td>\n",
       "    </tr>\n",
       "    <tr>\n",
       "      <th>1</th>\n",
       "      <td>128e10d95713541c87cd1a2e48201934</td>\n",
       "      <td>a20e8105f23924cd00833fd87daa0831</td>\n",
       "      <td>delivered</td>\n",
       "      <td>15/08/2018 18:29</td>\n",
       "      <td>15/08/2018 20:05</td>\n",
       "      <td>17/08/2018 15:28</td>\n",
       "      <td>18/08/2018 14:44</td>\n",
       "      <td>28/08/2018 00:00</td>\n",
       "      <td>3a51803cc0d012c3b5dc8b7528cb05f7</td>\n",
       "      <td>Comunidad de Madrid</td>\n",
       "      <td>...</td>\n",
       "      <td>19.0</td>\n",
       "      <td>8.0</td>\n",
       "      <td>13.0</td>\n",
       "      <td>4.0</td>\n",
       "      <td>1</td>\n",
       "      <td>87285b34884572647811a353c7ac498a</td>\n",
       "      <td>29.99</td>\n",
       "      <td>7.78</td>\n",
       "      <td>3504c0cb71d7fa48d967e0e4c94d59d9</td>\n",
       "      <td>21/08/2018 20:05</td>\n",
       "    </tr>\n",
       "    <tr>\n",
       "      <th>2</th>\n",
       "      <td>0e7e841ddf8f8f2de2bad69267ecfbcf</td>\n",
       "      <td>26c7ac168e1433912a51b924fbd34d34</td>\n",
       "      <td>delivered</td>\n",
       "      <td>02/08/2018 18:24</td>\n",
       "      <td>02/08/2018 18:43</td>\n",
       "      <td>04/08/2018 17:35</td>\n",
       "      <td>07/08/2018 18:30</td>\n",
       "      <td>15/08/2018 00:00</td>\n",
       "      <td>ef0996a1a279c26e7ecbd737be23d235</td>\n",
       "      <td>Comunidad de Madrid</td>\n",
       "      <td>...</td>\n",
       "      <td>19.0</td>\n",
       "      <td>8.0</td>\n",
       "      <td>13.0</td>\n",
       "      <td>4.0</td>\n",
       "      <td>1</td>\n",
       "      <td>87285b34884572647811a353c7ac498a</td>\n",
       "      <td>29.99</td>\n",
       "      <td>7.78</td>\n",
       "      <td>3504c0cb71d7fa48d967e0e4c94d59d9</td>\n",
       "      <td>08/08/2018 18:37</td>\n",
       "    </tr>\n",
       "    <tr>\n",
       "      <th>3</th>\n",
       "      <td>bfc39df4f36c3693ff3b63fcbea9e90a</td>\n",
       "      <td>53904ddbea91e1e92b2b3f1d09a7af86</td>\n",
       "      <td>delivered</td>\n",
       "      <td>23/10/2018 23:26</td>\n",
       "      <td>25/10/2018 02:14</td>\n",
       "      <td>27/10/2018 16:48</td>\n",
       "      <td>07/11/2018 18:04</td>\n",
       "      <td>13/11/2018 00:00</td>\n",
       "      <td>e781fdcc107d13d865fc7698711cc572</td>\n",
       "      <td>Castilla y León</td>\n",
       "      <td>...</td>\n",
       "      <td>19.0</td>\n",
       "      <td>8.0</td>\n",
       "      <td>13.0</td>\n",
       "      <td>4.0</td>\n",
       "      <td>1</td>\n",
       "      <td>87285b34884572647811a353c7ac498a</td>\n",
       "      <td>29.99</td>\n",
       "      <td>14.10</td>\n",
       "      <td>3504c0cb71d7fa48d967e0e4c94d59d9</td>\n",
       "      <td>31/10/2018 02:14</td>\n",
       "    </tr>\n",
       "    <tr>\n",
       "      <th>4</th>\n",
       "      <td>53cdb2fc8bc7dce0b6741e2150273451</td>\n",
       "      <td>b0830fb4747a6c6d20dea0b8c802d7ef</td>\n",
       "      <td>delivered</td>\n",
       "      <td>24/07/2019 20:41</td>\n",
       "      <td>26/07/2019 03:24</td>\n",
       "      <td>26/07/2019 14:31</td>\n",
       "      <td>07/08/2019 15:27</td>\n",
       "      <td>13/08/2019 00:00</td>\n",
       "      <td>af07308b275d755c9edb36a90c618231</td>\n",
       "      <td>País Vasco</td>\n",
       "      <td>...</td>\n",
       "      <td>19.0</td>\n",
       "      <td>13.0</td>\n",
       "      <td>19.0</td>\n",
       "      <td>1.0</td>\n",
       "      <td>1</td>\n",
       "      <td>595fac2a385ac33a80bd5114aec74eb8</td>\n",
       "      <td>118.70</td>\n",
       "      <td>22.76</td>\n",
       "      <td>289cdb325fb7e7f891c38608bf9e0962</td>\n",
       "      <td>30/07/2019 03:24</td>\n",
       "    </tr>\n",
       "    <tr>\n",
       "      <th>...</th>\n",
       "      <td>...</td>\n",
       "      <td>...</td>\n",
       "      <td>...</td>\n",
       "      <td>...</td>\n",
       "      <td>...</td>\n",
       "      <td>...</td>\n",
       "      <td>...</td>\n",
       "      <td>...</td>\n",
       "      <td>...</td>\n",
       "      <td>...</td>\n",
       "      <td>...</td>\n",
       "      <td>...</td>\n",
       "      <td>...</td>\n",
       "      <td>...</td>\n",
       "      <td>...</td>\n",
       "      <td>...</td>\n",
       "      <td>...</td>\n",
       "      <td>...</td>\n",
       "      <td>...</td>\n",
       "      <td>...</td>\n",
       "      <td>...</td>\n",
       "    </tr>\n",
       "    <tr>\n",
       "      <th>120551</th>\n",
       "      <td>e8fd20068b9f7e6ec07068bb7537f781</td>\n",
       "      <td>609b9fb8cad4fe0c7b376f77c8ab76ad</td>\n",
       "      <td>delivered</td>\n",
       "      <td>10/08/2018 21:21</td>\n",
       "      <td>10/08/2018 21:35</td>\n",
       "      <td>18/08/2018 16:42</td>\n",
       "      <td>23/08/2018 15:36</td>\n",
       "      <td>31/08/2018 00:00</td>\n",
       "      <td>fb9310710003399b031add3e55f34719</td>\n",
       "      <td>Comunidad de Madrid</td>\n",
       "      <td>...</td>\n",
       "      <td>28.0</td>\n",
       "      <td>23.0</td>\n",
       "      <td>23.0</td>\n",
       "      <td>1.0</td>\n",
       "      <td>1</td>\n",
       "      <td>0df37da38a30a713453b03053d60d3f7</td>\n",
       "      <td>356.00</td>\n",
       "      <td>18.12</td>\n",
       "      <td>218d46b86c1881d022bce9c68a7d4b15</td>\n",
       "      <td>17/08/2018 21:35</td>\n",
       "    </tr>\n",
       "    <tr>\n",
       "      <th>120552</th>\n",
       "      <td>e8fd20068b9f7e6ec07068bb7537f781</td>\n",
       "      <td>609b9fb8cad4fe0c7b376f77c8ab76ad</td>\n",
       "      <td>delivered</td>\n",
       "      <td>10/08/2018 21:21</td>\n",
       "      <td>10/08/2018 21:35</td>\n",
       "      <td>18/08/2018 16:42</td>\n",
       "      <td>23/08/2018 15:36</td>\n",
       "      <td>31/08/2018 00:00</td>\n",
       "      <td>fb9310710003399b031add3e55f34719</td>\n",
       "      <td>Comunidad de Madrid</td>\n",
       "      <td>...</td>\n",
       "      <td>28.0</td>\n",
       "      <td>23.0</td>\n",
       "      <td>23.0</td>\n",
       "      <td>1.0</td>\n",
       "      <td>2</td>\n",
       "      <td>0df37da38a30a713453b03053d60d3f7</td>\n",
       "      <td>356.00</td>\n",
       "      <td>18.12</td>\n",
       "      <td>218d46b86c1881d022bce9c68a7d4b15</td>\n",
       "      <td>17/08/2018 21:35</td>\n",
       "    </tr>\n",
       "    <tr>\n",
       "      <th>120553</th>\n",
       "      <td>cfa78b997e329a5295b4ee6972c02979</td>\n",
       "      <td>a2f7428f0cafbc8e59f20e1444b67315</td>\n",
       "      <td>delivered</td>\n",
       "      <td>20/12/2018 09:52</td>\n",
       "      <td>20/12/2018 10:09</td>\n",
       "      <td>20/12/2018 20:25</td>\n",
       "      <td>26/01/2019 15:45</td>\n",
       "      <td>18/01/2019 00:00</td>\n",
       "      <td>a49e8e11e850592fe685ae3c64b40eca</td>\n",
       "      <td>Galicia</td>\n",
       "      <td>...</td>\n",
       "      <td>16.0</td>\n",
       "      <td>6.0</td>\n",
       "      <td>12.0</td>\n",
       "      <td>2.0</td>\n",
       "      <td>1</td>\n",
       "      <td>3d2c44374ee42b3003a470f3e937a2ea</td>\n",
       "      <td>55.90</td>\n",
       "      <td>15.14</td>\n",
       "      <td>ce248b21cb2adc36282ede306b7660e5</td>\n",
       "      <td>27/12/2018 10:09</td>\n",
       "    </tr>\n",
       "    <tr>\n",
       "      <th>120554</th>\n",
       "      <td>9c5dedf39a927c1b2549525ed64a053c</td>\n",
       "      <td>39bd1228ee8140590ac3aca26f2dfe00</td>\n",
       "      <td>delivered</td>\n",
       "      <td>09/03/2018 09:54</td>\n",
       "      <td>09/03/2018 09:54</td>\n",
       "      <td>10/03/2018 11:18</td>\n",
       "      <td>17/03/2018 15:08</td>\n",
       "      <td>28/03/2018 00:00</td>\n",
       "      <td>6359f309b166b0196dbf7ad2ac62bb5a</td>\n",
       "      <td>Andalucía</td>\n",
       "      <td>...</td>\n",
       "      <td>22.0</td>\n",
       "      <td>13.0</td>\n",
       "      <td>18.0</td>\n",
       "      <td>1.0</td>\n",
       "      <td>1</td>\n",
       "      <td>ac35486adb7b02598c182c2ff2e05254</td>\n",
       "      <td>72.00</td>\n",
       "      <td>13.08</td>\n",
       "      <td>e24fc9fcd865784fb25705606fe3dfe7</td>\n",
       "      <td>15/03/2018 09:54</td>\n",
       "    </tr>\n",
       "    <tr>\n",
       "      <th>120555</th>\n",
       "      <td>66dea50a8b16d9b4dee7af250b4be1a5</td>\n",
       "      <td>edb027a75a1449115f6b43211ae02a24</td>\n",
       "      <td>delivered</td>\n",
       "      <td>08/03/2019 20:57</td>\n",
       "      <td>09/03/2019 11:20</td>\n",
       "      <td>09/03/2019 22:11</td>\n",
       "      <td>16/03/2019 13:08</td>\n",
       "      <td>03/04/2019 00:00</td>\n",
       "      <td>60350aa974b26ff12caad89e55993bd6</td>\n",
       "      <td>Galicia</td>\n",
       "      <td>...</td>\n",
       "      <td>16.0</td>\n",
       "      <td>7.0</td>\n",
       "      <td>15.0</td>\n",
       "      <td>1.0</td>\n",
       "      <td>1</td>\n",
       "      <td>006619bbed68b000c8ba3f8725d5409e</td>\n",
       "      <td>68.50</td>\n",
       "      <td>18.36</td>\n",
       "      <td>ececbfcff9804a2d6b40f589df8eef2b</td>\n",
       "      <td>15/03/2019 10:55</td>\n",
       "    </tr>\n",
       "  </tbody>\n",
       "</table>\n",
       "<p>120556 rows × 26 columns</p>\n",
       "</div>"
      ],
      "text/plain": [
       "                                order_id                       customer_id  \\\n",
       "0       e481f51cbdc54678b7cc49136f2d6af7  9ef432eb6251297304e76186b10a928d   \n",
       "1       128e10d95713541c87cd1a2e48201934  a20e8105f23924cd00833fd87daa0831   \n",
       "2       0e7e841ddf8f8f2de2bad69267ecfbcf  26c7ac168e1433912a51b924fbd34d34   \n",
       "3       bfc39df4f36c3693ff3b63fcbea9e90a  53904ddbea91e1e92b2b3f1d09a7af86   \n",
       "4       53cdb2fc8bc7dce0b6741e2150273451  b0830fb4747a6c6d20dea0b8c802d7ef   \n",
       "...                                  ...                               ...   \n",
       "120551  e8fd20068b9f7e6ec07068bb7537f781  609b9fb8cad4fe0c7b376f77c8ab76ad   \n",
       "120552  e8fd20068b9f7e6ec07068bb7537f781  609b9fb8cad4fe0c7b376f77c8ab76ad   \n",
       "120553  cfa78b997e329a5295b4ee6972c02979  a2f7428f0cafbc8e59f20e1444b67315   \n",
       "120554  9c5dedf39a927c1b2549525ed64a053c  39bd1228ee8140590ac3aca26f2dfe00   \n",
       "120555  66dea50a8b16d9b4dee7af250b4be1a5  edb027a75a1449115f6b43211ae02a24   \n",
       "\n",
       "       order_status ts_order_purchase ts_order_approved  \\\n",
       "0         delivered  02/10/2018 10:56  02/10/2018 11:07   \n",
       "1         delivered  15/08/2018 18:29  15/08/2018 20:05   \n",
       "2         delivered  02/08/2018 18:24  02/08/2018 18:43   \n",
       "3         delivered  23/10/2018 23:26  25/10/2018 02:14   \n",
       "4         delivered  24/07/2019 20:41  26/07/2019 03:24   \n",
       "...             ...               ...               ...   \n",
       "120551    delivered  10/08/2018 21:21  10/08/2018 21:35   \n",
       "120552    delivered  10/08/2018 21:21  10/08/2018 21:35   \n",
       "120553    delivered  20/12/2018 09:52  20/12/2018 10:09   \n",
       "120554    delivered  09/03/2018 09:54  09/03/2018 09:54   \n",
       "120555    delivered  08/03/2019 20:57  09/03/2019 11:20   \n",
       "\n",
       "       ts_order_delivered_carrier ts_order_delivered_customer  \\\n",
       "0                04/10/2018 19:55            10/10/2018 21:25   \n",
       "1                17/08/2018 15:28            18/08/2018 14:44   \n",
       "2                04/08/2018 17:35            07/08/2018 18:30   \n",
       "3                27/10/2018 16:48            07/11/2018 18:04   \n",
       "4                26/07/2019 14:31            07/08/2019 15:27   \n",
       "...                           ...                         ...   \n",
       "120551           18/08/2018 16:42            23/08/2018 15:36   \n",
       "120552           18/08/2018 16:42            23/08/2018 15:36   \n",
       "120553           20/12/2018 20:25            26/01/2019 15:45   \n",
       "120554           10/03/2018 11:18            17/03/2018 15:08   \n",
       "120555           09/03/2019 22:11            16/03/2019 13:08   \n",
       "\n",
       "       ts_order_estimated_delivery                customer_unique_id  \\\n",
       "0                 18/10/2018 00:00  7c396fd4830fd04220f754e42b4e5bff   \n",
       "1                 28/08/2018 00:00  3a51803cc0d012c3b5dc8b7528cb05f7   \n",
       "2                 15/08/2018 00:00  ef0996a1a279c26e7ecbd737be23d235   \n",
       "3                 13/11/2018 00:00  e781fdcc107d13d865fc7698711cc572   \n",
       "4                 13/08/2019 00:00  af07308b275d755c9edb36a90c618231   \n",
       "...                            ...                               ...   \n",
       "120551            31/08/2018 00:00  fb9310710003399b031add3e55f34719   \n",
       "120552            31/08/2018 00:00  fb9310710003399b031add3e55f34719   \n",
       "120553            18/01/2019 00:00  a49e8e11e850592fe685ae3c64b40eca   \n",
       "120554            28/03/2018 00:00  6359f309b166b0196dbf7ad2ac62bb5a   \n",
       "120555            03/04/2019 00:00  60350aa974b26ff12caad89e55993bd6   \n",
       "\n",
       "       customer_autonomous_community  ... product_length_cm product_height_cm  \\\n",
       "0                Comunidad de Madrid  ...              19.0               8.0   \n",
       "1                Comunidad de Madrid  ...              19.0               8.0   \n",
       "2                Comunidad de Madrid  ...              19.0               8.0   \n",
       "3                    Castilla y León  ...              19.0               8.0   \n",
       "4                         País Vasco  ...              19.0              13.0   \n",
       "...                              ...  ...               ...               ...   \n",
       "120551           Comunidad de Madrid  ...              28.0              23.0   \n",
       "120552           Comunidad de Madrid  ...              28.0              23.0   \n",
       "120553                       Galicia  ...              16.0               6.0   \n",
       "120554                     Andalucía  ...              22.0              13.0   \n",
       "120555                       Galicia  ...              16.0               7.0   \n",
       "\n",
       "        product_width_cm product_photo_quantity order_item_sequence_id  \\\n",
       "0                   13.0                    4.0                      1   \n",
       "1                   13.0                    4.0                      1   \n",
       "2                   13.0                    4.0                      1   \n",
       "3                   13.0                    4.0                      1   \n",
       "4                   19.0                    1.0                      1   \n",
       "...                  ...                    ...                    ...   \n",
       "120551              23.0                    1.0                      1   \n",
       "120552              23.0                    1.0                      2   \n",
       "120553              12.0                    2.0                      1   \n",
       "120554              18.0                    1.0                      1   \n",
       "120555              15.0                    1.0                      1   \n",
       "\n",
       "                            product_id_y   price  shipping_cost  \\\n",
       "0       87285b34884572647811a353c7ac498a   29.99           8.72   \n",
       "1       87285b34884572647811a353c7ac498a   29.99           7.78   \n",
       "2       87285b34884572647811a353c7ac498a   29.99           7.78   \n",
       "3       87285b34884572647811a353c7ac498a   29.99          14.10   \n",
       "4       595fac2a385ac33a80bd5114aec74eb8  118.70          22.76   \n",
       "...                                  ...     ...            ...   \n",
       "120551  0df37da38a30a713453b03053d60d3f7  356.00          18.12   \n",
       "120552  0df37da38a30a713453b03053d60d3f7  356.00          18.12   \n",
       "120553  3d2c44374ee42b3003a470f3e937a2ea   55.90          15.14   \n",
       "120554  ac35486adb7b02598c182c2ff2e05254   72.00          13.08   \n",
       "120555  006619bbed68b000c8ba3f8725d5409e   68.50          18.36   \n",
       "\n",
       "                               seller_id  max_shipping_seller_date  \n",
       "0       3504c0cb71d7fa48d967e0e4c94d59d9          06/10/2018 11:07  \n",
       "1       3504c0cb71d7fa48d967e0e4c94d59d9          21/08/2018 20:05  \n",
       "2       3504c0cb71d7fa48d967e0e4c94d59d9          08/08/2018 18:37  \n",
       "3       3504c0cb71d7fa48d967e0e4c94d59d9          31/10/2018 02:14  \n",
       "4       289cdb325fb7e7f891c38608bf9e0962          30/07/2019 03:24  \n",
       "...                                  ...                       ...  \n",
       "120551  218d46b86c1881d022bce9c68a7d4b15          17/08/2018 21:35  \n",
       "120552  218d46b86c1881d022bce9c68a7d4b15          17/08/2018 21:35  \n",
       "120553  ce248b21cb2adc36282ede306b7660e5          27/12/2018 10:09  \n",
       "120554  e24fc9fcd865784fb25705606fe3dfe7          15/03/2018 09:54  \n",
       "120555  ececbfcff9804a2d6b40f589df8eef2b          15/03/2019 10:55  \n",
       "\n",
       "[120556 rows x 26 columns]"
      ]
     },
     "execution_count": 8,
     "metadata": {},
     "output_type": "execute_result"
    }
   ],
   "source": [
    "df_final"
   ]
  },
  {
   "cell_type": "code",
   "execution_count": 9,
   "metadata": {},
   "outputs": [],
   "source": [
    "df_final.product_category_name = df_final.product_category_name.str.replace(' ', '')"
   ]
  },
  {
   "cell_type": "code",
   "execution_count": 10,
   "metadata": {},
   "outputs": [],
   "source": [
    "def label_states(row):\n",
    "    \n",
    "    if row['product_category_name'] in [\"book\", \"comics\", \"sportoutdoors\", \"musicinstruments\", \"agriculturesuppliers\", \"modelhobbybuilding\", \"painting\",\n",
    "\"fabric\", \"film&photography\", \"camera&photo\", \"cdvinyl\", \"wallart\", \"event&partysupplies\"]:\n",
    "        return 'hobby'\n",
    "\n",
    "    if row['product_category_name'] in [\"food\", \"dietsportsnutrition\"]:\n",
    "        return 'food'\n",
    "    \n",
    "    if row['product_category_name'] in [\"homeaccessories\", \"furniture\", \"officeproducts\", \"kitchen&dining\", \"seasonaldecor\", \"ceilingfans\", \"businessoffice\",\n",
    "\"bedroomdecor\", \"sofa\", \"bakeware\", \"lawngarden\", \"mattresses&pillows\",\"toolshomeimprovement\"]:\n",
    "        return 'forniture'\n",
    "    \n",
    "    if row['product_category_name'] in [\"fragrance\", \"beauty&personalcare\", \"wellness&relaxation\", \"oralcare\"]:\n",
    "        return 'beauty'\n",
    "    \n",
    "    if row['product_category_name'] in [\"automotive\"]:\n",
    "        return 'automotive'\n",
    "    \n",
    "    if row['product_category_name'] in [\"computeraccessories\", \"cellphones\", \"television&video\", \"homeappliances\", \"hardware\", \"homelighting\",\n",
    "\"lightbulbs\", \"videogameconsole\", \"homeaudio\", \"coffeemachines\", \"headphones\", \"monitors\", \"computerstablets\", \"dvd\", \"videogame\"]:\n",
    "        return 'eletronic' \n",
    "    \n",
    "    if row['product_category_name'] in [\"toysgames\", \"kids\", \"kidsfashion\"]:\n",
    "        return 'kids'\n",
    "    \n",
    "    if row['product_category_name'] in [\"petsupplies\", \"petfood\"]:\n",
    "        return 'pet'\n",
    "    \n",
    "    if row['product_category_name'] in [\"underwear\", \"fashion&shoes\", \"men'sfashion\", \"woman'sfashion\"]:\n",
    "        return 'clothes'\n",
    "    \n",
    "    if row['product_category_name'] in [\"handbags&accessories\", \"luggage\", \"watches\", \"jewelry\"]:\n",
    "        return \"accessories\"\n",
    "    \n",
    "    if row['product_category_name'] in [\"homeemergencykits\", \"firesafety\", \"healthhousehold\", \"medicalsupplies\", \"homesecuritysystems\", \"cleaningsupplies\",\"safetyapparel\"]:\n",
    "        return 'safety' \n",
    "    else:\n",
    "        return \"other\"\n",
    "    \n",
    "    \n",
    "    \n",
    "    \n",
    "    \n",
    "    \n",
    "df_final['label'] = df_final.apply(lambda row: label_states(row), axis=1)"
   ]
  },
  {
   "cell_type": "code",
   "execution_count": 13,
   "metadata": {},
   "outputs": [
    {
     "name": "stdout",
     "output_type": "stream",
     "text": [
      "<class 'pandas.core.frame.DataFrame'>\n",
      "Int64Index: 120556 entries, 0 to 120555\n",
      "Data columns (total 27 columns):\n",
      " #   Column                         Non-Null Count   Dtype  \n",
      "---  ------                         --------------   -----  \n",
      " 0   order_id                       120556 non-null  object \n",
      " 1   customer_id                    120556 non-null  object \n",
      " 2   order_status                   120556 non-null  object \n",
      " 3   ts_order_purchase              120556 non-null  object \n",
      " 4   ts_order_approved              120541 non-null  object \n",
      " 5   ts_order_delivered_carrier     119343 non-null  object \n",
      " 6   ts_order_delivered_customer    118146 non-null  object \n",
      " 7   ts_order_estimated_delivery    120556 non-null  object \n",
      " 8   customer_unique_id             120556 non-null  object \n",
      " 9   customer_autonomous_community  120556 non-null  object \n",
      " 10  customer_city                  120556 non-null  object \n",
      " 11  product_id_x                   120556 non-null  object \n",
      " 12  review_score                   120556 non-null  int64  \n",
      " 13  review_date                    120556 non-null  object \n",
      " 14  product_category_name          118861 non-null  object \n",
      " 15  product_weight_gr              120538 non-null  float64\n",
      " 16  product_length_cm              120538 non-null  float64\n",
      " 17  product_height_cm              120538 non-null  float64\n",
      " 18  product_width_cm               120538 non-null  float64\n",
      " 19  product_photo_quantity         118861 non-null  float64\n",
      " 20  order_item_sequence_id         120556 non-null  int64  \n",
      " 21  product_id_y                   120556 non-null  object \n",
      " 22  price                          120556 non-null  float64\n",
      " 23  shipping_cost                  120556 non-null  float64\n",
      " 24  seller_id                      120556 non-null  object \n",
      " 25  max_shipping_seller_date       120556 non-null  object \n",
      " 26  label                          120556 non-null  object \n",
      "dtypes: float64(7), int64(2), object(18)\n",
      "memory usage: 25.8+ MB\n"
     ]
    }
   ],
   "source": [
    "df_final.info()"
   ]
  },
  {
   "cell_type": "code",
   "execution_count": null,
   "metadata": {},
   "outputs": [],
   "source": []
  },
  {
   "cell_type": "code",
   "execution_count": 18,
   "metadata": {},
   "outputs": [],
   "source": [
    "df_final[\"price\"] = pd.to_numeric(df_final[\"price\"], downcast=\"float\")\n",
    "df_final = df_final.dropna()"
   ]
  },
  {
   "cell_type": "markdown",
   "metadata": {},
   "source": [
    "# Data Visualization"
   ]
  },
  {
   "cell_type": "markdown",
   "metadata": {},
   "source": [
    "## Price distribution"
   ]
  },
  {
   "cell_type": "markdown",
   "metadata": {},
   "source": [
    "Histogram. It divides the value range of continuous variables into discrete bins and shows how many values exist in each bin."
   ]
  },
  {
   "cell_type": "code",
   "execution_count": 21,
   "metadata": {},
   "outputs": [
    {
     "data": {
      "text/plain": [
       "<seaborn.axisgrid.FacetGrid at 0x19e9240e490>"
      ]
     },
     "execution_count": 21,
     "metadata": {},
     "output_type": "execute_result"
    },
    {
     "data": {
      "image/png": "[encoded data removed]",
      "text/plain": [
       "<Figure size 504x360 with 1 Axes>"
      ]
     },
     "metadata": {
      "needs_background": "light"
     },
     "output_type": "display_data"
    }
   ],
   "source": [
    "import matplotlib.pyplot as plt\n",
    "import seaborn as sns\n",
    "\n",
    "sns.displot(\n",
    "  data=df_final,\n",
    "  x=\"price\",\n",
    "  kind=\"hist\",\n",
    "  aspect=1.4,\n",
    "  log_scale=10\n",
    ")"
   ]
  },
  {
   "cell_type": "markdown",
   "metadata": {},
   "source": [
    "Focusing the attention on the price distribution for category of product different points can be noticed:\n",
    "    1) forniture goods are the most common product sold around the 80€ range.\n",
    "    2) the most common goods in the 20€ - 50€ range are the kids related products.\n",
    "    3) forniture goods represent also the main products sold in the ecommerce. "
   ]
  },
  {
   "cell_type": "code",
   "execution_count": 23,
   "metadata": {},
   "outputs": [
    {
     "data": {
      "text/plain": [
       "<seaborn.axisgrid.FacetGrid at 0x19ea0c3e310>"
      ]
     },
     "execution_count": 23,
     "metadata": {},
     "output_type": "execute_result"
    },
    {
     "data": {
      "image/png": "[encoded data removed]",
      "text/plain": [
       "<Figure size 598.125x360 with 1 Axes>"
      ]
     },
     "metadata": {
      "needs_background": "light"
     },
     "output_type": "display_data"
    }
   ],
   "source": [
    "sns.displot(\n",
    "  data=df_final,\n",
    "  x=\"price\",\n",
    "  hue=\"label\",\n",
    "  kind=\"hist\",\n",
    "  aspect=1.4,\n",
    "  log_scale=10,\n",
    "  bins=20\n",
    ")"
   ]
  },
  {
   "cell_type": "markdown",
   "metadata": {},
   "source": [
    "Brief focus for each category price distribution. \n",
    "Double click on the image to zoom :)"
   ]
  },
  {
   "cell_type": "code",
   "execution_count": 24,
   "metadata": {
    "scrolled": true
   },
   "outputs": [
    {
     "data": {
      "text/plain": [
       "<seaborn.axisgrid.FacetGrid at 0x19ea04affd0>"
      ]
     },
     "execution_count": 24,
     "metadata": {},
     "output_type": "execute_result"
    },
    {
     "data": {
      "image/png": "[encoded data removed]",
      "text/plain": [
       "<Figure size 5544x360 with 11 Axes>"
      ]
     },
     "metadata": {
      "needs_background": "light"
     },
     "output_type": "display_data"
    }
   ],
   "source": [
    "sns.displot(\n",
    "  data=df_final,\n",
    "  x=\"price\",\n",
    "  col=\"label\",\n",
    "  kind=\"hist\",\n",
    "  aspect=1.4,\n",
    "  log_scale=10,\n",
    "  bins=20\n",
    ")"
   ]
  },
  {
   "cell_type": "markdown",
   "metadata": {},
   "source": [
    "## KDE analisys"
   ]
  },
  {
   "cell_type": "markdown",
   "metadata": {},
   "source": [
    "Kde plots can be used for visualizing the distribution of variables as well. They are quite similar to the histograms. However, a kde plot represents the distribution using a continuous probability density curve rather than with discrete bins."
   ]
  },
  {
   "cell_type": "code",
   "execution_count": 77,
   "metadata": {},
   "outputs": [
    {
     "data": {
      "text/plain": [
       "<seaborn.axisgrid.FacetGrid at 0x238eb12bb50>"
      ]
     },
     "execution_count": 77,
     "metadata": {},
     "output_type": "execute_result"
    },
    {
     "data": {
      "image/png": "[encoded data removed]",
      "text/plain": [
       "<Figure size 504x360 with 1 Axes>"
      ]
     },
     "metadata": {
      "needs_background": "light"
     },
     "output_type": "display_data"
    }
   ],
   "source": [
    "sns.displot(\n",
    "  data=df_final,\n",
    "  x=\"price\",\n",
    "  kind=\"kde\",\n",
    "  aspect=1.4,\n",
    "  log_scale=10\n",
    ")"
   ]
  },
  {
   "cell_type": "markdown",
   "metadata": {},
   "source": [
    "The graph highlight the density distribution of the variable price in the dataset. As supposed before, the density distribution of the price variable tends towards values close to 100. "
   ]
  },
  {
   "cell_type": "markdown",
   "metadata": {},
   "source": [
    "Looking deeply on the distribution of the price by analysing the results focusing on the autonoumus comunity of the customer. The earlier analysis is strongly influenced by the fact that most orders come from the three most populous population centres in Spain (Madrid, Barcelona, Andalusia). In fact, if we compare the distributions for these three autonomous communities we notice that there is a very strong similarity to the total distribution curve. "
   ]
  },
  {
   "cell_type": "code",
   "execution_count": 25,
   "metadata": {},
   "outputs": [
    {
     "data": {
      "text/plain": [
       "<seaborn.axisgrid.FacetGrid at 0x19ea080d400>"
      ]
     },
     "execution_count": 25,
     "metadata": {},
     "output_type": "execute_result"
    },
    {
     "data": {
      "image/png": "[encoded data removed]",
      "text/plain": [
       "<Figure size 787.8x432 with 1 Axes>"
      ]
     },
     "metadata": {
      "needs_background": "light"
     },
     "output_type": "display_data"
    }
   ],
   "source": [
    "sns.displot(\n",
    "  data=df_final,\n",
    "  x=\"price\",\n",
    "  hue=\"customer_autonomous_community\",\n",
    "  kind=\"kde\",\n",
    "  height=6,\n",
    "  aspect=1.4,\n",
    "  log_scale=10\n",
    ")"
   ]
  }
 ],
 "metadata": {
  "kernelspec": {
   "display_name": "Python 3",
   "language": "python",
   "name": "python3"
  },
  "language_info": {
   "codemirror_mode": {
    "name": "ipython",
    "version": 3
   },
   "file_extension": ".py",
   "mimetype": "text/x-python",
   "name": "python",
   "nbconvert_exporter": "python",
   "pygments_lexer": "ipython3",
   "version": "3.8.5"
  }
 },
 "nbformat": 4,
 "nbformat_minor": 4
}
