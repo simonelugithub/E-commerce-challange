{
 "cells": [
  {
   "cell_type": "markdown",
   "metadata": {},
   "source": [
    "## Predict an accurate date of  delivery \n",
    "Lorenzo Antolini, Simone Lu, Luca Schisano Enrico Romano"
   ]
  },
  {
   "cell_type": "markdown",
   "metadata": {},
   "source": [
    "In order to predict an accurate date of delivery, with the following code, we will try to predict a delivery time, With this predicted delivery time, we can know when the package will reach the customer. \n",
    "\n",
    "Firstly, we merged together customers, orders, order_items and products in order to consider some important features for the delivery prediction"
   ]
  },
  {
   "cell_type": "code",
   "execution_count": 1,
   "metadata": {},
   "outputs": [],
   "source": [
    "import pandas as pd\n",
    "import numpy as np\n",
    "import matplotlib.pyplot as plt\n",
    "import seaborn as sns\n",
    "from sklearn.preprocessing import LabelEncoder\n",
    "le=LabelEncoder()\n",
    "import warnings\n",
    "warnings.filterwarnings('ignore')\n",
    "from numpy import mean, median, sin, cos, sqrt, arctan2, radians, std, select, percentile,corrcoef, round\n",
    "from seaborn import boxplot\n",
    "from statistics import mode\n",
    "from scipy.stats import zscore\n",
    "from sklearn.model_selection import train_test_split\n",
    "from sklearn.metrics import accuracy_score,confusion_matrix\n",
    "from time import time\n",
    "from sklearn.model_selection import train_test_split\n",
    "from sklearn.linear_model import LogisticRegression\n",
    "from sklearn.tree import DecisionTreeClassifier\n",
    "from sklearn.neighbors import KNeighborsClassifier\n",
    "from sklearn.ensemble import RandomForestClassifier,AdaBoostClassifier,BaggingClassifier,ExtraTreesClassifier\n",
    "lr=LogisticRegression()\n",
    "dt=DecisionTreeClassifier()\n",
    "knn=KNeighborsClassifier()\n",
    "rf=RandomForestClassifier()\n",
    "ada=AdaBoostClassifier()\n",
    "bag=BaggingClassifier()\n",
    "xtree=ExtraTreesClassifier()\n",
    "from sklearn.model_selection import GridSearchCV\n",
    "from sklearn.feature_extraction.text import CountVectorizer\n",
    "count=CountVectorizer()\n",
    "from sklearn.decomposition import PCA\n"
   ]
  },
  {
   "cell_type": "code",
   "execution_count": 2,
   "metadata": {},
   "outputs": [],
   "source": [
    "# assign dataset names\n",
    "list_of_names = ['01.geo','02.customers','03.sellers','04.order_status','05.order_items',\n",
    "                '06.order_payments','07.product_reviews','08.products']\n",
    "  \n",
    "# create empty list\n",
    "df = []\n",
    "  \n",
    "# append datasets into the list\n",
    "for i in range(len(list_of_names)):\n",
    "    temp_df = pd.read_csv (list_of_names [i] + \".csv\", encoding=\"ISO-8859-1\",delimiter = \";\")\n",
    "    df.append(temp_df)\n",
    "    \n",
    "    "
   ]
  },
  {
   "cell_type": "code",
   "execution_count": 3,
   "metadata": {},
   "outputs": [],
   "source": [
    "geoloc =df[0] \n",
    "customers =df[1] \n",
    "sellers =df[2]  \n",
    "orders =df[3]  \n",
    "order_items =df[4]\n",
    "order_payments =df[5]\n",
    "order_reviews =df[6]\n",
    "products =df[7]"
   ]
  },
  {
   "cell_type": "code",
   "execution_count": 4,
   "metadata": {},
   "outputs": [],
   "source": [
    "merge_df=customers.merge(orders,on='customer_id',how='inner')"
   ]
  },
  {
   "cell_type": "code",
   "execution_count": 5,
   "metadata": {},
   "outputs": [],
   "source": [
    "merge_df=merge_df.merge(order_items,on='order_id',how='inner')"
   ]
  },
  {
   "cell_type": "code",
   "execution_count": 6,
   "metadata": {},
   "outputs": [],
   "source": [
    "merge_df=merge_df.merge(products,on='product_id',how='inner')"
   ]
  },
  {
   "cell_type": "markdown",
   "metadata": {},
   "source": [
    "We have extracted the month from the ts_order_purchase variable, because it represents our main interest."
   ]
  },
  {
   "cell_type": "code",
   "execution_count": 7,
   "metadata": {},
   "outputs": [],
   "source": [
    "merge_df['purchase_month']=pd.DatetimeIndex(merge_df['ts_order_purchase']).month"
   ]
  },
  {
   "cell_type": "code",
   "execution_count": 8,
   "metadata": {},
   "outputs": [],
   "source": [
    "merge_df=merge_df[['customer_id', 'customer_unique_id', 'customer_city', 'order_id',\n",
    "       'order_status', 'ts_order_purchase',\n",
    "       'ts_order_delivered_customer', 'ts_order_estimated_delivery',\n",
    "       'product_id', 'price', 'product_category_name', 'product_weight_gr', 'product_length_cm', 'product_height_cm',\n",
    "       'product_width_cm','product_photo_quantity','purchase_month']]"
   ]
  },
  {
   "cell_type": "code",
   "execution_count": 9,
   "metadata": {},
   "outputs": [],
   "source": [
    "merge_df['ts_order_estimated_delivery'] = pd.to_datetime(merge_df['ts_order_estimated_delivery'])\n",
    "merge_df['ts_order_delivered_customer'] = pd.to_datetime(merge_df['ts_order_delivered_customer'])\n",
    "merge_df['ts_order_purchase'] = pd.to_datetime(merge_df['ts_order_purchase'])"
   ]
  },
  {
   "cell_type": "markdown",
   "metadata": {},
   "source": [
    "Looking at our data, it's easy to see all the \"id\" related fields are not relevant in predicting delivery time, thus all of these will be removed. as for the purchase timestamp, we've already extracted the month into the 'purchase month' column, which is the relevant parameter we need.\n",
    "\n",
    "After, we create our target variable: <b>delivery time</b>."
   ]
  },
  {
   "cell_type": "code",
   "execution_count": 10,
   "metadata": {},
   "outputs": [],
   "source": [
    "param_df=merge_df.drop(['customer_id', 'customer_unique_id', 'order_id',\n",
    "       'ts_order_purchase','customer_city',\n",
    "       'ts_order_delivered_customer', 'ts_order_estimated_delivery','product_id'],axis=1)\n",
    "param_df=param_df[param_df['order_status'].str.contains('delivered')]"
   ]
  },
  {
   "cell_type": "code",
   "execution_count": 11,
   "metadata": {},
   "outputs": [
    {
     "data": {
      "text/plain": [
       "Index(['order_status', 'price', 'product_category_name', 'product_weight_gr',\n",
       "       'product_length_cm', 'product_height_cm', 'product_width_cm',\n",
       "       'product_photo_quantity', 'purchase_month'],\n",
       "      dtype='object')"
      ]
     },
     "execution_count": 11,
     "metadata": {},
     "output_type": "execute_result"
    }
   ],
   "source": [
    "param_df.columns"
   ]
  },
  {
   "cell_type": "code",
   "execution_count": 12,
   "metadata": {},
   "outputs": [],
   "source": [
    "#we make new features as well as the first target value 'delivery time'\n",
    "param_df['product_volume_cm3']=param_df['product_length_cm']*param_df['product_height_cm']*param_df['product_width_cm']\n"
   ]
  },
  {
   "cell_type": "code",
   "execution_count": 13,
   "metadata": {},
   "outputs": [],
   "source": [
    "param_df['delivery_time']=(merge_df['ts_order_delivered_customer']-merge_df['ts_order_purchase']).dt.days\n"
   ]
  },
  {
   "cell_type": "code",
   "execution_count": 14,
   "metadata": {},
   "outputs": [],
   "source": [
    "param_df=param_df.drop(['order_status','product_length_cm','product_height_cm','product_width_cm'], axis=1)"
   ]
  },
  {
   "cell_type": "code",
   "execution_count": 15,
   "metadata": {},
   "outputs": [
    {
     "data": {
      "text/plain": [
       "Index(['price', 'product_category_name', 'product_weight_gr',\n",
       "       'product_photo_quantity', 'purchase_month', 'product_volume_cm3',\n",
       "       'delivery_time'],\n",
       "      dtype='object')"
      ]
     },
     "execution_count": 15,
     "metadata": {},
     "output_type": "execute_result"
    }
   ],
   "source": [
    "param_df.columns"
   ]
  },
  {
   "cell_type": "markdown",
   "metadata": {},
   "source": [
    "We are ready to begin our first model to predict delivery time:"
   ]
  },
  {
   "cell_type": "code",
   "execution_count": 16,
   "metadata": {},
   "outputs": [],
   "source": [
    "from xgboost import XGBRegressor\n",
    "from sklearn.impute import SimpleImputer\n",
    "from sklearn.pipeline import make_pipeline \n",
    "from sklearn.preprocessing import OneHotEncoder, MaxAbsScaler,StandardScaler\n",
    "from sklearn.compose import make_column_transformer\n",
    "from sklearn.model_selection import cross_val_score, KFold, train_test_split\n",
    "from sklearn.metrics import mean_absolute_error"
   ]
  },
  {
   "cell_type": "markdown",
   "metadata": {},
   "source": [
    "Firstly, is important to remove NaN values"
   ]
  },
  {
   "cell_type": "code",
   "execution_count": 17,
   "metadata": {},
   "outputs": [
    {
     "data": {
      "text/plain": [
       "price                        0\n",
       "product_category_name     1537\n",
       "product_weight_gr           18\n",
       "product_photo_quantity    1537\n",
       "purchase_month               0\n",
       "product_volume_cm3          18\n",
       "delivery_time                8\n",
       "dtype: int64"
      ]
     },
     "execution_count": 17,
     "metadata": {},
     "output_type": "execute_result"
    }
   ],
   "source": [
    "param_df.isnull().sum()"
   ]
  },
  {
   "cell_type": "code",
   "execution_count": 18,
   "metadata": {},
   "outputs": [],
   "source": [
    "param_df=param_df.dropna()"
   ]
  },
  {
   "cell_type": "markdown",
   "metadata": {},
   "source": [
    "Then, we selected our X and y. As we said previously, the target variable is the delivery time, so it is our Y."
   ]
  },
  {
   "cell_type": "code",
   "execution_count": 19,
   "metadata": {},
   "outputs": [],
   "source": [
    "X=param_df.drop(['delivery_time','price','product_photo_quantity',],axis=1)\n",
    "y=param_df.delivery_time"
   ]
  },
  {
   "cell_type": "markdown",
   "metadata": {},
   "source": [
    "Preprocessing data. We encode categorical variables. "
   ]
  },
  {
   "cell_type": "code",
   "execution_count": 20,
   "metadata": {},
   "outputs": [],
   "source": [
    "preprocessor=make_column_transformer(\n",
    "    (OneHotEncoder(),['product_category_name', 'purchase_month']),\n",
    "    (SimpleImputer(strategy='median'), ['product_weight_gr', 'product_volume_cm3'])\n",
    ")"
   ]
  },
  {
   "cell_type": "markdown",
   "metadata": {},
   "source": [
    "Then, we stardardize X and Y"
   ]
  },
  {
   "cell_type": "code",
   "execution_count": 21,
   "metadata": {},
   "outputs": [],
   "source": [
    "X=preprocessor.fit_transform(X)\n",
    "\n",
    "X_train, X_valid, y_train, y_valid = train_test_split(X, y, train_size=0.8, test_size=0.2,random_state=0)\n",
    "scaler = MaxAbsScaler()\n",
    "X_train = scaler.fit_transform(X_train)\n",
    "X_valid = scaler.transform(X_valid)"
   ]
  },
  {
   "cell_type": "markdown",
   "metadata": {},
   "source": [
    "After these pre-processing steps, we can run our models. \n",
    "\n",
    "Firstly we have done a XGboost algorithm and then a Random Forest."
   ]
  },
  {
   "cell_type": "code",
   "execution_count": 63,
   "metadata": {},
   "outputs": [],
   "source": [
    "xgbmodel = XGBRegressor(n_estimators=500, learning_rate=0.05, n_jobs=4)\n",
    "xgbmodel.fit(X_train, y_train, \n",
    "             early_stopping_rounds=5, \n",
    "             eval_set=[(X_valid, y_valid)],\n",
    "             verbose=False)\n",
    "xgbmodel.fit(X_train, y_train)\n",
    "predictions=xgbmodel.predict(X_valid)\n",
    "mae=mean_absolute_error(predictions, y_valid)"
   ]
  },
  {
   "cell_type": "code",
   "execution_count": 64,
   "metadata": {},
   "outputs": [
    {
     "name": "stdout",
     "output_type": "stream",
     "text": [
      "XGBRegressor Accuracy: 29.23% (std: 0.39%), mae: 79.82\n"
     ]
    }
   ],
   "source": [
    "#pipe=make_pipeline(preprocessor,xgbmodel)\n",
    "kfold = KFold(n_splits=10, shuffle=True)\n",
    "results=cross_val_score(xgbmodel,X,y, cv=kfold)\n",
    "#print(\"cross-validated mae: \" + str(mean_absolute_error(cv_pred, y_valid)))\n",
    "print(\"XGBRegressor Accuracy: %.2f%% (std: %.2f%%), mae: %.2f\" % (results.mean()*100, results.std()*100, mae))"
   ]
  },
  {
   "cell_type": "code",
   "execution_count": 75,
   "metadata": {},
   "outputs": [
    {
     "data": {
      "text/html": [
       "<div>\n",
       "<style scoped>\n",
       "    .dataframe tbody tr th:only-of-type {\n",
       "        vertical-align: middle;\n",
       "    }\n",
       "\n",
       "    .dataframe tbody tr th {\n",
       "        vertical-align: top;\n",
       "    }\n",
       "\n",
       "    .dataframe thead th {\n",
       "        text-align: right;\n",
       "    }\n",
       "</style>\n",
       "<table border=\"1\" class=\"dataframe\">\n",
       "  <thead>\n",
       "    <tr style=\"text-align: right;\">\n",
       "      <th></th>\n",
       "      <th>0</th>\n",
       "    </tr>\n",
       "  </thead>\n",
       "  <tbody>\n",
       "    <tr>\n",
       "      <th>count</th>\n",
       "      <td>21736.000000</td>\n",
       "    </tr>\n",
       "    <tr>\n",
       "      <th>mean</th>\n",
       "      <td>12.415795</td>\n",
       "    </tr>\n",
       "    <tr>\n",
       "      <th>std</th>\n",
       "      <td>63.781681</td>\n",
       "    </tr>\n",
       "    <tr>\n",
       "      <th>min</th>\n",
       "      <td>-224.477417</td>\n",
       "    </tr>\n",
       "    <tr>\n",
       "      <th>25%</th>\n",
       "      <td>-36.712257</td>\n",
       "    </tr>\n",
       "    <tr>\n",
       "      <th>50%</th>\n",
       "      <td>10.198768</td>\n",
       "    </tr>\n",
       "    <tr>\n",
       "      <th>75%</th>\n",
       "      <td>69.406860</td>\n",
       "    </tr>\n",
       "    <tr>\n",
       "      <th>max</th>\n",
       "      <td>215.788010</td>\n",
       "    </tr>\n",
       "  </tbody>\n",
       "</table>\n",
       "</div>"
      ],
      "text/plain": [
       "                  0\n",
       "count  21736.000000\n",
       "mean      12.415795\n",
       "std       63.781681\n",
       "min     -224.477417\n",
       "25%      -36.712257\n",
       "50%       10.198768\n",
       "75%       69.406860\n",
       "max      215.788010"
      ]
     },
     "execution_count": 75,
     "metadata": {},
     "output_type": "execute_result"
    }
   ],
   "source": [
    "pd.DataFrame(predictions).describe()"
   ]
  },
  {
   "cell_type": "code",
   "execution_count": 65,
   "metadata": {},
   "outputs": [
    {
     "name": "stdout",
     "output_type": "stream",
     "text": [
      "Random Forest Regressor's Mean Absolute Error: 77.68461501450754\n"
     ]
    }
   ],
   "source": [
    "from sklearn.ensemble import RandomForestRegressor\n",
    "\n",
    "regressor = RandomForestRegressor(n_estimators=200, random_state=0)\n",
    "regressor.fit(X_train, y_train)\n",
    "y_pred = regressor.predict(X_valid)\n",
    "print(\"Random Forest Regressor's Mean Absolute Error: \" + str(mean_absolute_error(y_pred, y_valid)))"
   ]
  },
  {
   "cell_type": "code",
   "execution_count": 76,
   "metadata": {},
   "outputs": [
    {
     "data": {
      "text/html": [
       "<div>\n",
       "<style scoped>\n",
       "    .dataframe tbody tr th:only-of-type {\n",
       "        vertical-align: middle;\n",
       "    }\n",
       "\n",
       "    .dataframe tbody tr th {\n",
       "        vertical-align: top;\n",
       "    }\n",
       "\n",
       "    .dataframe thead th {\n",
       "        text-align: right;\n",
       "    }\n",
       "</style>\n",
       "<table border=\"1\" class=\"dataframe\">\n",
       "  <thead>\n",
       "    <tr style=\"text-align: right;\">\n",
       "      <th></th>\n",
       "      <th>0</th>\n",
       "    </tr>\n",
       "  </thead>\n",
       "  <tbody>\n",
       "    <tr>\n",
       "      <th>count</th>\n",
       "      <td>21736.000000</td>\n",
       "    </tr>\n",
       "    <tr>\n",
       "      <th>mean</th>\n",
       "      <td>11.914010</td>\n",
       "    </tr>\n",
       "    <tr>\n",
       "      <th>std</th>\n",
       "      <td>81.896179</td>\n",
       "    </tr>\n",
       "    <tr>\n",
       "      <th>min</th>\n",
       "      <td>-305.369838</td>\n",
       "    </tr>\n",
       "    <tr>\n",
       "      <th>25%</th>\n",
       "      <td>-36.416232</td>\n",
       "    </tr>\n",
       "    <tr>\n",
       "      <th>50%</th>\n",
       "      <td>10.477526</td>\n",
       "    </tr>\n",
       "    <tr>\n",
       "      <th>75%</th>\n",
       "      <td>63.300647</td>\n",
       "    </tr>\n",
       "    <tr>\n",
       "      <th>max</th>\n",
       "      <td>372.683167</td>\n",
       "    </tr>\n",
       "  </tbody>\n",
       "</table>\n",
       "</div>"
      ],
      "text/plain": [
       "                  0\n",
       "count  21736.000000\n",
       "mean      11.914010\n",
       "std       81.896179\n",
       "min     -305.369838\n",
       "25%      -36.416232\n",
       "50%       10.477526\n",
       "75%       63.300647\n",
       "max      372.683167"
      ]
     },
     "execution_count": 76,
     "metadata": {},
     "output_type": "execute_result"
    }
   ],
   "source": [
    "pd.DataFrame(y_pred).describe()"
   ]
  },
  {
   "cell_type": "markdown",
   "metadata": {},
   "source": [
    "## Delivery Performance"
   ]
  },
  {
   "cell_type": "code",
   "execution_count": 5,
   "metadata": {},
   "outputs": [
    {
     "data": {
      "text/html": [
       "<div>\n",
       "<style scoped>\n",
       "    .dataframe tbody tr th:only-of-type {\n",
       "        vertical-align: middle;\n",
       "    }\n",
       "\n",
       "    .dataframe tbody tr th {\n",
       "        vertical-align: top;\n",
       "    }\n",
       "\n",
       "    .dataframe thead th {\n",
       "        text-align: right;\n",
       "    }\n",
       "</style>\n",
       "<table border=\"1\" class=\"dataframe\">\n",
       "  <thead>\n",
       "    <tr style=\"text-align: right;\">\n",
       "      <th></th>\n",
       "      <th>order_id</th>\n",
       "      <th>customer_id</th>\n",
       "      <th>order_status</th>\n",
       "      <th>ts_order_purchase</th>\n",
       "      <th>ts_order_approved</th>\n",
       "      <th>ts_order_delivered_carrier</th>\n",
       "      <th>ts_order_delivered_customer</th>\n",
       "      <th>ts_order_estimated_delivery</th>\n",
       "      <th>customer_unique_id</th>\n",
       "      <th>customer_autonomous_community</th>\n",
       "      <th>...</th>\n",
       "      <th>product_weight_gr</th>\n",
       "      <th>product_length_cm</th>\n",
       "      <th>product_height_cm</th>\n",
       "      <th>product_width_cm</th>\n",
       "      <th>product_photo_quantity</th>\n",
       "      <th>seller_autonomous_community</th>\n",
       "      <th>seller_city</th>\n",
       "      <th>product_id_y</th>\n",
       "      <th>review_score</th>\n",
       "      <th>review_date</th>\n",
       "    </tr>\n",
       "  </thead>\n",
       "  <tbody>\n",
       "    <tr>\n",
       "      <th>0</th>\n",
       "      <td>e481f51cbdc54678b7cc49136f2d6af7</td>\n",
       "      <td>9ef432eb6251297304e76186b10a928d</td>\n",
       "      <td>delivered</td>\n",
       "      <td>02/10/2018 10:56</td>\n",
       "      <td>02/10/2018 11:07</td>\n",
       "      <td>04/10/2018 19:55</td>\n",
       "      <td>10/10/2018 21:25</td>\n",
       "      <td>18/10/2018 00:00</td>\n",
       "      <td>7c396fd4830fd04220f754e42b4e5bff</td>\n",
       "      <td>Comunidad de Madrid</td>\n",
       "      <td>...</td>\n",
       "      <td>500.0</td>\n",
       "      <td>19.0</td>\n",
       "      <td>8.0</td>\n",
       "      <td>13.0</td>\n",
       "      <td>4.0</td>\n",
       "      <td>Andalucía</td>\n",
       "      <td>Málaga</td>\n",
       "      <td>87285b34884572647811a353c7ac498a</td>\n",
       "      <td>5</td>\n",
       "      <td>12/10/2018 03:43</td>\n",
       "    </tr>\n",
       "    <tr>\n",
       "      <th>1</th>\n",
       "      <td>e481f51cbdc54678b7cc49136f2d6af7</td>\n",
       "      <td>9ef432eb6251297304e76186b10a928d</td>\n",
       "      <td>delivered</td>\n",
       "      <td>02/10/2018 10:56</td>\n",
       "      <td>02/10/2018 11:07</td>\n",
       "      <td>04/10/2018 19:55</td>\n",
       "      <td>10/10/2018 21:25</td>\n",
       "      <td>18/10/2018 00:00</td>\n",
       "      <td>7c396fd4830fd04220f754e42b4e5bff</td>\n",
       "      <td>Comunidad de Madrid</td>\n",
       "      <td>...</td>\n",
       "      <td>500.0</td>\n",
       "      <td>19.0</td>\n",
       "      <td>8.0</td>\n",
       "      <td>13.0</td>\n",
       "      <td>4.0</td>\n",
       "      <td>Andalucía</td>\n",
       "      <td>Málaga</td>\n",
       "      <td>87285b34884572647811a353c7ac498a</td>\n",
       "      <td>5</td>\n",
       "      <td>12/10/2018 03:43</td>\n",
       "    </tr>\n",
       "    <tr>\n",
       "      <th>2</th>\n",
       "      <td>e481f51cbdc54678b7cc49136f2d6af7</td>\n",
       "      <td>9ef432eb6251297304e76186b10a928d</td>\n",
       "      <td>delivered</td>\n",
       "      <td>02/10/2018 10:56</td>\n",
       "      <td>02/10/2018 11:07</td>\n",
       "      <td>04/10/2018 19:55</td>\n",
       "      <td>10/10/2018 21:25</td>\n",
       "      <td>18/10/2018 00:00</td>\n",
       "      <td>7c396fd4830fd04220f754e42b4e5bff</td>\n",
       "      <td>Comunidad de Madrid</td>\n",
       "      <td>...</td>\n",
       "      <td>500.0</td>\n",
       "      <td>19.0</td>\n",
       "      <td>8.0</td>\n",
       "      <td>13.0</td>\n",
       "      <td>4.0</td>\n",
       "      <td>Andalucía</td>\n",
       "      <td>Málaga</td>\n",
       "      <td>87285b34884572647811a353c7ac498a</td>\n",
       "      <td>5</td>\n",
       "      <td>12/10/2018 03:43</td>\n",
       "    </tr>\n",
       "    <tr>\n",
       "      <th>3</th>\n",
       "      <td>128e10d95713541c87cd1a2e48201934</td>\n",
       "      <td>a20e8105f23924cd00833fd87daa0831</td>\n",
       "      <td>delivered</td>\n",
       "      <td>15/08/2018 18:29</td>\n",
       "      <td>15/08/2018 20:05</td>\n",
       "      <td>17/08/2018 15:28</td>\n",
       "      <td>18/08/2018 14:44</td>\n",
       "      <td>28/08/2018 00:00</td>\n",
       "      <td>3a51803cc0d012c3b5dc8b7528cb05f7</td>\n",
       "      <td>Comunidad de Madrid</td>\n",
       "      <td>...</td>\n",
       "      <td>500.0</td>\n",
       "      <td>19.0</td>\n",
       "      <td>8.0</td>\n",
       "      <td>13.0</td>\n",
       "      <td>4.0</td>\n",
       "      <td>Andalucía</td>\n",
       "      <td>Málaga</td>\n",
       "      <td>87285b34884572647811a353c7ac498a</td>\n",
       "      <td>5</td>\n",
       "      <td>20/08/2018 15:16</td>\n",
       "    </tr>\n",
       "    <tr>\n",
       "      <th>4</th>\n",
       "      <td>0e7e841ddf8f8f2de2bad69267ecfbcf</td>\n",
       "      <td>26c7ac168e1433912a51b924fbd34d34</td>\n",
       "      <td>delivered</td>\n",
       "      <td>02/08/2018 18:24</td>\n",
       "      <td>02/08/2018 18:43</td>\n",
       "      <td>04/08/2018 17:35</td>\n",
       "      <td>07/08/2018 18:30</td>\n",
       "      <td>15/08/2018 00:00</td>\n",
       "      <td>ef0996a1a279c26e7ecbd737be23d235</td>\n",
       "      <td>Comunidad de Madrid</td>\n",
       "      <td>...</td>\n",
       "      <td>500.0</td>\n",
       "      <td>19.0</td>\n",
       "      <td>8.0</td>\n",
       "      <td>13.0</td>\n",
       "      <td>4.0</td>\n",
       "      <td>Andalucía</td>\n",
       "      <td>Málaga</td>\n",
       "      <td>87285b34884572647811a353c7ac498a</td>\n",
       "      <td>1</td>\n",
       "      <td>08/08/2018 23:26</td>\n",
       "    </tr>\n",
       "  </tbody>\n",
       "</table>\n",
       "<p>5 rows × 32 columns</p>\n",
       "</div>"
      ],
      "text/plain": [
       "                           order_id                       customer_id  \\\n",
       "0  e481f51cbdc54678b7cc49136f2d6af7  9ef432eb6251297304e76186b10a928d   \n",
       "1  e481f51cbdc54678b7cc49136f2d6af7  9ef432eb6251297304e76186b10a928d   \n",
       "2  e481f51cbdc54678b7cc49136f2d6af7  9ef432eb6251297304e76186b10a928d   \n",
       "3  128e10d95713541c87cd1a2e48201934  a20e8105f23924cd00833fd87daa0831   \n",
       "4  0e7e841ddf8f8f2de2bad69267ecfbcf  26c7ac168e1433912a51b924fbd34d34   \n",
       "\n",
       "  order_status ts_order_purchase ts_order_approved ts_order_delivered_carrier  \\\n",
       "0    delivered  02/10/2018 10:56  02/10/2018 11:07           04/10/2018 19:55   \n",
       "1    delivered  02/10/2018 10:56  02/10/2018 11:07           04/10/2018 19:55   \n",
       "2    delivered  02/10/2018 10:56  02/10/2018 11:07           04/10/2018 19:55   \n",
       "3    delivered  15/08/2018 18:29  15/08/2018 20:05           17/08/2018 15:28   \n",
       "4    delivered  02/08/2018 18:24  02/08/2018 18:43           04/08/2018 17:35   \n",
       "\n",
       "  ts_order_delivered_customer ts_order_estimated_delivery  \\\n",
       "0            10/10/2018 21:25            18/10/2018 00:00   \n",
       "1            10/10/2018 21:25            18/10/2018 00:00   \n",
       "2            10/10/2018 21:25            18/10/2018 00:00   \n",
       "3            18/08/2018 14:44            28/08/2018 00:00   \n",
       "4            07/08/2018 18:30            15/08/2018 00:00   \n",
       "\n",
       "                 customer_unique_id customer_autonomous_community  ...  \\\n",
       "0  7c396fd4830fd04220f754e42b4e5bff           Comunidad de Madrid  ...   \n",
       "1  7c396fd4830fd04220f754e42b4e5bff           Comunidad de Madrid  ...   \n",
       "2  7c396fd4830fd04220f754e42b4e5bff           Comunidad de Madrid  ...   \n",
       "3  3a51803cc0d012c3b5dc8b7528cb05f7           Comunidad de Madrid  ...   \n",
       "4  ef0996a1a279c26e7ecbd737be23d235           Comunidad de Madrid  ...   \n",
       "\n",
       "  product_weight_gr  product_length_cm product_height_cm product_width_cm  \\\n",
       "0             500.0               19.0               8.0             13.0   \n",
       "1             500.0               19.0               8.0             13.0   \n",
       "2             500.0               19.0               8.0             13.0   \n",
       "3             500.0               19.0               8.0             13.0   \n",
       "4             500.0               19.0               8.0             13.0   \n",
       "\n",
       "  product_photo_quantity seller_autonomous_community seller_city  \\\n",
       "0                    4.0                   Andalucía      Málaga   \n",
       "1                    4.0                   Andalucía      Málaga   \n",
       "2                    4.0                   Andalucía      Málaga   \n",
       "3                    4.0                   Andalucía      Málaga   \n",
       "4                    4.0                   Andalucía      Málaga   \n",
       "\n",
       "                       product_id_y  review_score       review_date  \n",
       "0  87285b34884572647811a353c7ac498a             5  12/10/2018 03:43  \n",
       "1  87285b34884572647811a353c7ac498a             5  12/10/2018 03:43  \n",
       "2  87285b34884572647811a353c7ac498a             5  12/10/2018 03:43  \n",
       "3  87285b34884572647811a353c7ac498a             5  20/08/2018 15:16  \n",
       "4  87285b34884572647811a353c7ac498a             1  08/08/2018 23:26  \n",
       "\n",
       "[5 rows x 32 columns]"
      ]
     },
     "execution_count": 5,
     "metadata": {},
     "output_type": "execute_result"
    }
   ],
   "source": [
    "df = pd.merge(orders,customers,on='customer_id')\n",
    "df = df.merge(order_items, on='order_id')\n",
    "df = df.merge(order_payments, on='order_id')\n",
    "df = df.merge(products, on='product_id')\n",
    "df = df.merge(sellers, on='seller_id')\n",
    "df = df.merge(order_reviews, on='order_id' )\n",
    "df.head()"
   ]
  },
  {
   "cell_type": "code",
   "execution_count": 6,
   "metadata": {},
   "outputs": [],
   "source": [
    "df = df.dropna()"
   ]
  },
  {
   "cell_type": "code",
   "execution_count": 7,
   "metadata": {},
   "outputs": [],
   "source": [
    "df=df.reset_index()\n",
    "df.drop(['index'],axis=1,inplace=True)"
   ]
  },
  {
   "cell_type": "code",
   "execution_count": 8,
   "metadata": {},
   "outputs": [],
   "source": [
    "df = df.sort_values(\"customer_id\")\n",
    "df = df.reset_index()\n",
    "df.drop(['index'],axis=1,inplace=True)"
   ]
  },
  {
   "cell_type": "code",
   "execution_count": 9,
   "metadata": {},
   "outputs": [],
   "source": [
    "df['price'] = df['price'].str.replace(',', '.').astype(float)"
   ]
  },
  {
   "cell_type": "code",
   "execution_count": 12,
   "metadata": {},
   "outputs": [],
   "source": [
    "df.dropna(subset=['ts_order_delivered_customer'],inplace=True)\n",
    "df.reset_index(inplace=True,drop=True)"
   ]
  },
  {
   "cell_type": "code",
   "execution_count": 13,
   "metadata": {},
   "outputs": [
    {
     "data": {
      "text/html": [
       "<div>\n",
       "<style scoped>\n",
       "    .dataframe tbody tr th:only-of-type {\n",
       "        vertical-align: middle;\n",
       "    }\n",
       "\n",
       "    .dataframe tbody tr th {\n",
       "        vertical-align: top;\n",
       "    }\n",
       "\n",
       "    .dataframe thead th {\n",
       "        text-align: right;\n",
       "    }\n",
       "</style>\n",
       "<table border=\"1\" class=\"dataframe\">\n",
       "  <thead>\n",
       "    <tr style=\"text-align: right;\">\n",
       "      <th></th>\n",
       "      <th>ts_order_delivered_customer</th>\n",
       "      <th>ts_order_estimated_delivery</th>\n",
       "    </tr>\n",
       "  </thead>\n",
       "  <tbody>\n",
       "    <tr>\n",
       "      <th>0</th>\n",
       "      <td>28/11/2018 15:41</td>\n",
       "      <td>04/12/2018 00:00</td>\n",
       "    </tr>\n",
       "    <tr>\n",
       "      <th>1</th>\n",
       "      <td>25/07/2018 18:57</td>\n",
       "      <td>04/08/2018 00:00</td>\n",
       "    </tr>\n",
       "    <tr>\n",
       "      <th>2</th>\n",
       "      <td>06/03/2018 08:57</td>\n",
       "      <td>22/03/2018 00:00</td>\n",
       "    </tr>\n",
       "    <tr>\n",
       "      <th>3</th>\n",
       "      <td>13/09/2018 20:06</td>\n",
       "      <td>14/09/2018 00:00</td>\n",
       "    </tr>\n",
       "    <tr>\n",
       "      <th>4</th>\n",
       "      <td>13/04/2019 20:21</td>\n",
       "      <td>18/04/2019 00:00</td>\n",
       "    </tr>\n",
       "    <tr>\n",
       "      <th>...</th>\n",
       "      <td>...</td>\n",
       "      <td>...</td>\n",
       "    </tr>\n",
       "    <tr>\n",
       "      <th>121704</th>\n",
       "      <td>10/04/2019 17:20</td>\n",
       "      <td>27/04/2019 00:00</td>\n",
       "    </tr>\n",
       "    <tr>\n",
       "      <th>121705</th>\n",
       "      <td>08/06/2019 18:03</td>\n",
       "      <td>29/06/2019 00:00</td>\n",
       "    </tr>\n",
       "    <tr>\n",
       "      <th>121706</th>\n",
       "      <td>18/06/2019 18:33</td>\n",
       "      <td>25/06/2019 00:00</td>\n",
       "    </tr>\n",
       "    <tr>\n",
       "      <th>121707</th>\n",
       "      <td>14/09/2018 19:47</td>\n",
       "      <td>26/09/2018 00:00</td>\n",
       "    </tr>\n",
       "    <tr>\n",
       "      <th>121708</th>\n",
       "      <td>14/09/2018 19:47</td>\n",
       "      <td>26/09/2018 00:00</td>\n",
       "    </tr>\n",
       "  </tbody>\n",
       "</table>\n",
       "<p>121709 rows × 2 columns</p>\n",
       "</div>"
      ],
      "text/plain": [
       "       ts_order_delivered_customer ts_order_estimated_delivery\n",
       "0                 28/11/2018 15:41            04/12/2018 00:00\n",
       "1                 25/07/2018 18:57            04/08/2018 00:00\n",
       "2                 06/03/2018 08:57            22/03/2018 00:00\n",
       "3                 13/09/2018 20:06            14/09/2018 00:00\n",
       "4                 13/04/2019 20:21            18/04/2019 00:00\n",
       "...                            ...                         ...\n",
       "121704            10/04/2019 17:20            27/04/2019 00:00\n",
       "121705            08/06/2019 18:03            29/06/2019 00:00\n",
       "121706            18/06/2019 18:33            25/06/2019 00:00\n",
       "121707            14/09/2018 19:47            26/09/2018 00:00\n",
       "121708            14/09/2018 19:47            26/09/2018 00:00\n",
       "\n",
       "[121709 rows x 2 columns]"
      ]
     },
     "execution_count": 13,
     "metadata": {},
     "output_type": "execute_result"
    }
   ],
   "source": [
    "df_diff = df[['ts_order_delivered_customer','ts_order_estimated_delivery']]\n",
    "\n",
    "df_diff"
   ]
  },
  {
   "cell_type": "code",
   "execution_count": 14,
   "metadata": {},
   "outputs": [],
   "source": [
    "import datetime\n",
    "def date_convert(date_to_convert):\n",
    "     return datetime.datetime.strptime(date_to_convert, '%d/%m/%Y %H:%M').strftime('%d/%m/%Y %H:%M')"
   ]
  },
  {
   "cell_type": "code",
   "execution_count": 16,
   "metadata": {},
   "outputs": [],
   "source": [
    "df_diff['delivered'] = df['ts_order_delivered_customer'].apply(date_convert)\n",
    "df_diff['estimated'] = df['ts_order_estimated_delivery'].apply(date_convert)"
   ]
  },
  {
   "cell_type": "code",
   "execution_count": 17,
   "metadata": {},
   "outputs": [
    {
     "data": {
      "text/html": [
       "<div>\n",
       "<style scoped>\n",
       "    .dataframe tbody tr th:only-of-type {\n",
       "        vertical-align: middle;\n",
       "    }\n",
       "\n",
       "    .dataframe tbody tr th {\n",
       "        vertical-align: top;\n",
       "    }\n",
       "\n",
       "    .dataframe thead th {\n",
       "        text-align: right;\n",
       "    }\n",
       "</style>\n",
       "<table border=\"1\" class=\"dataframe\">\n",
       "  <thead>\n",
       "    <tr style=\"text-align: right;\">\n",
       "      <th></th>\n",
       "      <th>ts_order_delivered_customer</th>\n",
       "      <th>ts_order_estimated_delivery</th>\n",
       "      <th>delivered</th>\n",
       "      <th>estimated</th>\n",
       "    </tr>\n",
       "  </thead>\n",
       "  <tbody>\n",
       "    <tr>\n",
       "      <th>0</th>\n",
       "      <td>28/11/2018 15:41</td>\n",
       "      <td>04/12/2018 00:00</td>\n",
       "      <td>28/11/2018 15:41</td>\n",
       "      <td>04/12/2018 00:00</td>\n",
       "    </tr>\n",
       "    <tr>\n",
       "      <th>1</th>\n",
       "      <td>25/07/2018 18:57</td>\n",
       "      <td>04/08/2018 00:00</td>\n",
       "      <td>25/07/2018 18:57</td>\n",
       "      <td>04/08/2018 00:00</td>\n",
       "    </tr>\n",
       "    <tr>\n",
       "      <th>2</th>\n",
       "      <td>06/03/2018 08:57</td>\n",
       "      <td>22/03/2018 00:00</td>\n",
       "      <td>06/03/2018 08:57</td>\n",
       "      <td>22/03/2018 00:00</td>\n",
       "    </tr>\n",
       "    <tr>\n",
       "      <th>3</th>\n",
       "      <td>13/09/2018 20:06</td>\n",
       "      <td>14/09/2018 00:00</td>\n",
       "      <td>13/09/2018 20:06</td>\n",
       "      <td>14/09/2018 00:00</td>\n",
       "    </tr>\n",
       "    <tr>\n",
       "      <th>4</th>\n",
       "      <td>13/04/2019 20:21</td>\n",
       "      <td>18/04/2019 00:00</td>\n",
       "      <td>13/04/2019 20:21</td>\n",
       "      <td>18/04/2019 00:00</td>\n",
       "    </tr>\n",
       "    <tr>\n",
       "      <th>...</th>\n",
       "      <td>...</td>\n",
       "      <td>...</td>\n",
       "      <td>...</td>\n",
       "      <td>...</td>\n",
       "    </tr>\n",
       "    <tr>\n",
       "      <th>121704</th>\n",
       "      <td>10/04/2019 17:20</td>\n",
       "      <td>27/04/2019 00:00</td>\n",
       "      <td>10/04/2019 17:20</td>\n",
       "      <td>27/04/2019 00:00</td>\n",
       "    </tr>\n",
       "    <tr>\n",
       "      <th>121705</th>\n",
       "      <td>08/06/2019 18:03</td>\n",
       "      <td>29/06/2019 00:00</td>\n",
       "      <td>08/06/2019 18:03</td>\n",
       "      <td>29/06/2019 00:00</td>\n",
       "    </tr>\n",
       "    <tr>\n",
       "      <th>121706</th>\n",
       "      <td>18/06/2019 18:33</td>\n",
       "      <td>25/06/2019 00:00</td>\n",
       "      <td>18/06/2019 18:33</td>\n",
       "      <td>25/06/2019 00:00</td>\n",
       "    </tr>\n",
       "    <tr>\n",
       "      <th>121707</th>\n",
       "      <td>14/09/2018 19:47</td>\n",
       "      <td>26/09/2018 00:00</td>\n",
       "      <td>14/09/2018 19:47</td>\n",
       "      <td>26/09/2018 00:00</td>\n",
       "    </tr>\n",
       "    <tr>\n",
       "      <th>121708</th>\n",
       "      <td>14/09/2018 19:47</td>\n",
       "      <td>26/09/2018 00:00</td>\n",
       "      <td>14/09/2018 19:47</td>\n",
       "      <td>26/09/2018 00:00</td>\n",
       "    </tr>\n",
       "  </tbody>\n",
       "</table>\n",
       "<p>121709 rows × 4 columns</p>\n",
       "</div>"
      ],
      "text/plain": [
       "       ts_order_delivered_customer ts_order_estimated_delivery  \\\n",
       "0                 28/11/2018 15:41            04/12/2018 00:00   \n",
       "1                 25/07/2018 18:57            04/08/2018 00:00   \n",
       "2                 06/03/2018 08:57            22/03/2018 00:00   \n",
       "3                 13/09/2018 20:06            14/09/2018 00:00   \n",
       "4                 13/04/2019 20:21            18/04/2019 00:00   \n",
       "...                            ...                         ...   \n",
       "121704            10/04/2019 17:20            27/04/2019 00:00   \n",
       "121705            08/06/2019 18:03            29/06/2019 00:00   \n",
       "121706            18/06/2019 18:33            25/06/2019 00:00   \n",
       "121707            14/09/2018 19:47            26/09/2018 00:00   \n",
       "121708            14/09/2018 19:47            26/09/2018 00:00   \n",
       "\n",
       "               delivered         estimated  \n",
       "0       28/11/2018 15:41  04/12/2018 00:00  \n",
       "1       25/07/2018 18:57  04/08/2018 00:00  \n",
       "2       06/03/2018 08:57  22/03/2018 00:00  \n",
       "3       13/09/2018 20:06  14/09/2018 00:00  \n",
       "4       13/04/2019 20:21  18/04/2019 00:00  \n",
       "...                  ...               ...  \n",
       "121704  10/04/2019 17:20  27/04/2019 00:00  \n",
       "121705  08/06/2019 18:03  29/06/2019 00:00  \n",
       "121706  18/06/2019 18:33  25/06/2019 00:00  \n",
       "121707  14/09/2018 19:47  26/09/2018 00:00  \n",
       "121708  14/09/2018 19:47  26/09/2018 00:00  \n",
       "\n",
       "[121709 rows x 4 columns]"
      ]
     },
     "execution_count": 17,
     "metadata": {},
     "output_type": "execute_result"
    }
   ],
   "source": [
    "df_diff"
   ]
  },
  {
   "cell_type": "code",
   "execution_count": 18,
   "metadata": {},
   "outputs": [],
   "source": [
    "df_diff.drop(['ts_order_delivered_customer'],axis=1,inplace=True)\n",
    "df_diff.drop(['ts_order_estimated_delivery'],axis=1,inplace=True)"
   ]
  },
  {
   "cell_type": "code",
   "execution_count": 19,
   "metadata": {},
   "outputs": [
    {
     "data": {
      "text/html": [
       "<div>\n",
       "<style scoped>\n",
       "    .dataframe tbody tr th:only-of-type {\n",
       "        vertical-align: middle;\n",
       "    }\n",
       "\n",
       "    .dataframe tbody tr th {\n",
       "        vertical-align: top;\n",
       "    }\n",
       "\n",
       "    .dataframe thead th {\n",
       "        text-align: right;\n",
       "    }\n",
       "</style>\n",
       "<table border=\"1\" class=\"dataframe\">\n",
       "  <thead>\n",
       "    <tr style=\"text-align: right;\">\n",
       "      <th></th>\n",
       "      <th>delivered</th>\n",
       "      <th>estimated</th>\n",
       "    </tr>\n",
       "  </thead>\n",
       "  <tbody>\n",
       "    <tr>\n",
       "      <th>0</th>\n",
       "      <td>28/11/2018 15:41</td>\n",
       "      <td>04/12/2018 00:00</td>\n",
       "    </tr>\n",
       "    <tr>\n",
       "      <th>1</th>\n",
       "      <td>25/07/2018 18:57</td>\n",
       "      <td>04/08/2018 00:00</td>\n",
       "    </tr>\n",
       "    <tr>\n",
       "      <th>2</th>\n",
       "      <td>06/03/2018 08:57</td>\n",
       "      <td>22/03/2018 00:00</td>\n",
       "    </tr>\n",
       "    <tr>\n",
       "      <th>3</th>\n",
       "      <td>13/09/2018 20:06</td>\n",
       "      <td>14/09/2018 00:00</td>\n",
       "    </tr>\n",
       "    <tr>\n",
       "      <th>4</th>\n",
       "      <td>13/04/2019 20:21</td>\n",
       "      <td>18/04/2019 00:00</td>\n",
       "    </tr>\n",
       "    <tr>\n",
       "      <th>...</th>\n",
       "      <td>...</td>\n",
       "      <td>...</td>\n",
       "    </tr>\n",
       "    <tr>\n",
       "      <th>121704</th>\n",
       "      <td>10/04/2019 17:20</td>\n",
       "      <td>27/04/2019 00:00</td>\n",
       "    </tr>\n",
       "    <tr>\n",
       "      <th>121705</th>\n",
       "      <td>08/06/2019 18:03</td>\n",
       "      <td>29/06/2019 00:00</td>\n",
       "    </tr>\n",
       "    <tr>\n",
       "      <th>121706</th>\n",
       "      <td>18/06/2019 18:33</td>\n",
       "      <td>25/06/2019 00:00</td>\n",
       "    </tr>\n",
       "    <tr>\n",
       "      <th>121707</th>\n",
       "      <td>14/09/2018 19:47</td>\n",
       "      <td>26/09/2018 00:00</td>\n",
       "    </tr>\n",
       "    <tr>\n",
       "      <th>121708</th>\n",
       "      <td>14/09/2018 19:47</td>\n",
       "      <td>26/09/2018 00:00</td>\n",
       "    </tr>\n",
       "  </tbody>\n",
       "</table>\n",
       "<p>121709 rows × 2 columns</p>\n",
       "</div>"
      ],
      "text/plain": [
       "               delivered         estimated\n",
       "0       28/11/2018 15:41  04/12/2018 00:00\n",
       "1       25/07/2018 18:57  04/08/2018 00:00\n",
       "2       06/03/2018 08:57  22/03/2018 00:00\n",
       "3       13/09/2018 20:06  14/09/2018 00:00\n",
       "4       13/04/2019 20:21  18/04/2019 00:00\n",
       "...                  ...               ...\n",
       "121704  10/04/2019 17:20  27/04/2019 00:00\n",
       "121705  08/06/2019 18:03  29/06/2019 00:00\n",
       "121706  18/06/2019 18:33  25/06/2019 00:00\n",
       "121707  14/09/2018 19:47  26/09/2018 00:00\n",
       "121708  14/09/2018 19:47  26/09/2018 00:00\n",
       "\n",
       "[121709 rows x 2 columns]"
      ]
     },
     "execution_count": 19,
     "metadata": {},
     "output_type": "execute_result"
    }
   ],
   "source": [
    "df_diff"
   ]
  },
  {
   "cell_type": "code",
   "execution_count": 21,
   "metadata": {},
   "outputs": [],
   "source": [
    "time = []\n",
    "i=0\n",
    "while i < len(df):\n",
    "    time_1 = datetime.datetime.strptime(df_diff['estimated'][i],'%d/%m/%Y %H:%M')\n",
    "    time_2 = datetime.datetime.strptime(df_diff['delivered'][i],'%d/%m/%Y %H:%M')\n",
    "    time_interval = time_2 - time_1    \n",
    "    time.append(time_interval)\n",
    "    \n",
    "    i=i+1"
   ]
  },
  {
   "cell_type": "code",
   "execution_count": 22,
   "metadata": {},
   "outputs": [],
   "source": [
    "df_diff['Difference'] = time"
   ]
  },
  {
   "cell_type": "code",
   "execution_count": 23,
   "metadata": {},
   "outputs": [],
   "source": [
    "df_diff['Difference'] = df_diff['Difference'].dt.days"
   ]
  },
  {
   "cell_type": "code",
   "execution_count": 24,
   "metadata": {},
   "outputs": [
    {
     "data": {
      "text/html": [
       "<div>\n",
       "<style scoped>\n",
       "    .dataframe tbody tr th:only-of-type {\n",
       "        vertical-align: middle;\n",
       "    }\n",
       "\n",
       "    .dataframe tbody tr th {\n",
       "        vertical-align: top;\n",
       "    }\n",
       "\n",
       "    .dataframe thead th {\n",
       "        text-align: right;\n",
       "    }\n",
       "</style>\n",
       "<table border=\"1\" class=\"dataframe\">\n",
       "  <thead>\n",
       "    <tr style=\"text-align: right;\">\n",
       "      <th></th>\n",
       "      <th>delivered</th>\n",
       "      <th>estimated</th>\n",
       "      <th>Difference</th>\n",
       "    </tr>\n",
       "  </thead>\n",
       "  <tbody>\n",
       "    <tr>\n",
       "      <th>0</th>\n",
       "      <td>28/11/2018 15:41</td>\n",
       "      <td>04/12/2018 00:00</td>\n",
       "      <td>-6</td>\n",
       "    </tr>\n",
       "    <tr>\n",
       "      <th>1</th>\n",
       "      <td>25/07/2018 18:57</td>\n",
       "      <td>04/08/2018 00:00</td>\n",
       "      <td>-10</td>\n",
       "    </tr>\n",
       "    <tr>\n",
       "      <th>2</th>\n",
       "      <td>06/03/2018 08:57</td>\n",
       "      <td>22/03/2018 00:00</td>\n",
       "      <td>-16</td>\n",
       "    </tr>\n",
       "    <tr>\n",
       "      <th>3</th>\n",
       "      <td>13/09/2018 20:06</td>\n",
       "      <td>14/09/2018 00:00</td>\n",
       "      <td>-1</td>\n",
       "    </tr>\n",
       "    <tr>\n",
       "      <th>4</th>\n",
       "      <td>13/04/2019 20:21</td>\n",
       "      <td>18/04/2019 00:00</td>\n",
       "      <td>-5</td>\n",
       "    </tr>\n",
       "    <tr>\n",
       "      <th>...</th>\n",
       "      <td>...</td>\n",
       "      <td>...</td>\n",
       "      <td>...</td>\n",
       "    </tr>\n",
       "    <tr>\n",
       "      <th>121704</th>\n",
       "      <td>10/04/2019 17:20</td>\n",
       "      <td>27/04/2019 00:00</td>\n",
       "      <td>-17</td>\n",
       "    </tr>\n",
       "    <tr>\n",
       "      <th>121705</th>\n",
       "      <td>08/06/2019 18:03</td>\n",
       "      <td>29/06/2019 00:00</td>\n",
       "      <td>-21</td>\n",
       "    </tr>\n",
       "    <tr>\n",
       "      <th>121706</th>\n",
       "      <td>18/06/2019 18:33</td>\n",
       "      <td>25/06/2019 00:00</td>\n",
       "      <td>-7</td>\n",
       "    </tr>\n",
       "    <tr>\n",
       "      <th>121707</th>\n",
       "      <td>14/09/2018 19:47</td>\n",
       "      <td>26/09/2018 00:00</td>\n",
       "      <td>-12</td>\n",
       "    </tr>\n",
       "    <tr>\n",
       "      <th>121708</th>\n",
       "      <td>14/09/2018 19:47</td>\n",
       "      <td>26/09/2018 00:00</td>\n",
       "      <td>-12</td>\n",
       "    </tr>\n",
       "  </tbody>\n",
       "</table>\n",
       "<p>121709 rows × 3 columns</p>\n",
       "</div>"
      ],
      "text/plain": [
       "               delivered         estimated  Difference\n",
       "0       28/11/2018 15:41  04/12/2018 00:00          -6\n",
       "1       25/07/2018 18:57  04/08/2018 00:00         -10\n",
       "2       06/03/2018 08:57  22/03/2018 00:00         -16\n",
       "3       13/09/2018 20:06  14/09/2018 00:00          -1\n",
       "4       13/04/2019 20:21  18/04/2019 00:00          -5\n",
       "...                  ...               ...         ...\n",
       "121704  10/04/2019 17:20  27/04/2019 00:00         -17\n",
       "121705  08/06/2019 18:03  29/06/2019 00:00         -21\n",
       "121706  18/06/2019 18:33  25/06/2019 00:00          -7\n",
       "121707  14/09/2018 19:47  26/09/2018 00:00         -12\n",
       "121708  14/09/2018 19:47  26/09/2018 00:00         -12\n",
       "\n",
       "[121709 rows x 3 columns]"
      ]
     },
     "execution_count": 24,
     "metadata": {},
     "output_type": "execute_result"
    }
   ],
   "source": [
    "df_diff"
   ]
  },
  {
   "cell_type": "code",
   "execution_count": 25,
   "metadata": {},
   "outputs": [
    {
     "data": {
      "text/plain": [
       "0        2018-11-28 15:41:00\n",
       "1        2018-07-25 18:57:00\n",
       "2        2018-03-06 08:57:00\n",
       "3        2018-09-13 20:06:00\n",
       "4        2019-04-13 20:21:00\n",
       "                 ...        \n",
       "121704   2019-04-10 17:20:00\n",
       "121705   2019-06-08 18:03:00\n",
       "121706   2019-06-18 18:33:00\n",
       "121707   2018-09-14 19:47:00\n",
       "121708   2018-09-14 19:47:00\n",
       "Name: delivered, Length: 121709, dtype: datetime64[ns]"
      ]
     },
     "execution_count": 25,
     "metadata": {},
     "output_type": "execute_result"
    }
   ],
   "source": [
    "pd.to_datetime(df_diff['delivered'], format='%d/%m/%Y %H:%M')"
   ]
  },
  {
   "cell_type": "code",
   "execution_count": 26,
   "metadata": {},
   "outputs": [],
   "source": [
    "def date_reconvert(date_to_convert):\n",
    "     return pd.to_datetime(date_to_convert, format='%d/%m/%Y %H:%M')"
   ]
  },
  {
   "cell_type": "code",
   "execution_count": 27,
   "metadata": {},
   "outputs": [],
   "source": [
    "df_diff['delivered'] = df['ts_order_delivered_customer'].apply(date_reconvert)\n",
    "df_diff['estimated'] = df['ts_order_estimated_delivery'].apply(date_reconvert)"
   ]
  },
  {
   "cell_type": "code",
   "execution_count": 28,
   "metadata": {},
   "outputs": [
    {
     "name": "stdout",
     "output_type": "stream",
     "text": [
      "<class 'pandas.core.frame.DataFrame'>\n",
      "RangeIndex: 121709 entries, 0 to 121708\n",
      "Data columns (total 3 columns):\n",
      " #   Column      Non-Null Count   Dtype         \n",
      "---  ------      --------------   -----         \n",
      " 0   delivered   121709 non-null  datetime64[ns]\n",
      " 1   estimated   121709 non-null  datetime64[ns]\n",
      " 2   Difference  121709 non-null  int64         \n",
      "dtypes: datetime64[ns](2), int64(1)\n",
      "memory usage: 2.8 MB\n"
     ]
    }
   ],
   "source": [
    "df_diff.info()"
   ]
  },
  {
   "cell_type": "code",
   "execution_count": 29,
   "metadata": {},
   "outputs": [],
   "source": [
    "df_plot = df_diff[['estimated','Difference']]"
   ]
  },
  {
   "cell_type": "code",
   "execution_count": 30,
   "metadata": {},
   "outputs": [],
   "source": [
    "df_plot = df_plot.set_index('estimated')"
   ]
  },
  {
   "cell_type": "code",
   "execution_count": 31,
   "metadata": {},
   "outputs": [],
   "source": [
    "df_plot = df_plot.sort_index()"
   ]
  },
  {
   "cell_type": "code",
   "execution_count": 32,
   "metadata": {},
   "outputs": [
    {
     "data": {
      "text/plain": [
       "<AxesSubplot:xlabel='estimated'>"
      ]
     },
     "execution_count": 32,
     "metadata": {},
     "output_type": "execute_result"
    },
    {
     "data": {
      "image/png": "[encoded data removed]",
      "text/plain": [
       "<Figure size 1152x576 with 1 Axes>"
      ]
     },
     "metadata": {
      "needs_background": "light"
     },
     "output_type": "display_data"
    }
   ],
   "source": [
    "fig = plt.figure(figsize=(16, 8))\n",
    "df_plot['Difference'].plot()"
   ]
  },
  {
   "cell_type": "code",
   "execution_count": 33,
   "metadata": {},
   "outputs": [],
   "source": [
    "q_70 = int(len(df_plot.index) * .7)\n",
    "df_train = df_plot[:q_70]\n",
    "df_test = df_plot[q_70:]"
   ]
  },
  {
   "cell_type": "code",
   "execution_count": 34,
   "metadata": {},
   "outputs": [
    {
     "data": {
      "text/plain": [
       "(85196, 1)"
      ]
     },
     "execution_count": 34,
     "metadata": {},
     "output_type": "execute_result"
    }
   ],
   "source": [
    "from sklearn.preprocessing import MinMaxScaler\n",
    "scaler = MinMaxScaler(feature_range=(0,1))\n",
    "scaler = scaler.fit(df_train)\n",
    "df_scaled = scaler.transform(df_train)\n",
    "df_scaled.shape"
   ]
  },
  {
   "cell_type": "code",
   "execution_count": 35,
   "metadata": {},
   "outputs": [],
   "source": [
    "def df_to_X_y(df,windowsize):\n",
    "    X=[]\n",
    "    y=[]\n",
    "    for i in range(len(df_scaled)-windowsize):\n",
    "        row = [[a] for a in df_scaled[i:i+windowsize]]\n",
    "        X.append(row)\n",
    "        label = df_scaled[i+windowsize]\n",
    "        y.append(label)\n",
    "        \n",
    "    return np.array(X), np.array(y)"
   ]
  },
  {
   "cell_type": "code",
   "execution_count": 36,
   "metadata": {},
   "outputs": [
    {
     "data": {
      "text/plain": [
       "((85196,), (85191, 5, 1, 1), (85191, 1))"
      ]
     },
     "execution_count": 36,
     "metadata": {},
     "output_type": "execute_result"
    }
   ],
   "source": [
    "Close = df_train['Difference']\n",
    "WINDOWSIZE = 5\n",
    "X_5,y_5 = df_to_X_y(Close, WINDOWSIZE)\n",
    "Close.shape, X_5.shape, y_5.shape"
   ]
  },
  {
   "cell_type": "code",
   "execution_count": 37,
   "metadata": {},
   "outputs": [],
   "source": [
    "X_5 = np.reshape(X_5,(X_5.shape[0], X_5.shape[1], X_5.shape[2]))\n",
    "y_5 = np.reshape(y_5,(y_5.shape[0],))"
   ]
  },
  {
   "cell_type": "code",
   "execution_count": 40,
   "metadata": {},
   "outputs": [],
   "source": [
    "from tensorflow.keras.models import Sequential\n",
    "from tensorflow.keras.optimizers import Adam\n",
    "from tensorflow.keras import layers\n",
    "from tensorflow.keras.layers import *\n",
    "from tensorflow.keras.callbacks import ModelCheckpoint\n",
    "from tensorflow.keras.losses import MeanSquaredError\n",
    "from tensorflow.keras.metrics import RootMeanSquaredError\n",
    "model = Sequential()\n",
    "model.add(LSTM(100, return_sequences=True, input_shape=(X_5.shape[1],1)))\n",
    "model.add(LSTM(20, return_sequences=False))\n",
    "model.add(Dense(25))\n",
    "model.add(Dense(1))"
   ]
  },
  {
   "cell_type": "code",
   "execution_count": 41,
   "metadata": {},
   "outputs": [],
   "source": [
    "model.compile(loss='mse', \n",
    "              optimizer='adam',\n",
    "              metrics=['mean_absolute_error'])"
   ]
  },
  {
   "cell_type": "code",
   "execution_count": 42,
   "metadata": {},
   "outputs": [
    {
     "name": "stdout",
     "output_type": "stream",
     "text": [
      "Epoch 1/20\n",
      "1332/1332 [==============================] - 23s 13ms/step - loss: 0.0015 - mean_absolute_error: 0.0220\n",
      "Epoch 2/20\n",
      "1332/1332 [==============================] - 16s 12ms/step - loss: 9.3564e-04 - mean_absolute_error: 0.0197\n",
      "Epoch 3/20\n",
      "1332/1332 [==============================] - 15s 11ms/step - loss: 9.3954e-04 - mean_absolute_error: 0.0198\n",
      "Epoch 4/20\n",
      "1332/1332 [==============================] - 15s 11ms/step - loss: 9.3422e-04 - mean_absolute_error: 0.0198\n",
      "Epoch 5/20\n",
      "1332/1332 [==============================] - 15s 11ms/step - loss: 9.3205e-04 - mean_absolute_error: 0.0198\n",
      "Epoch 6/20\n",
      "1332/1332 [==============================] - 15s 11ms/step - loss: 9.2635e-04 - mean_absolute_error: 0.0197\n",
      "Epoch 7/20\n",
      "1332/1332 [==============================] - 15s 11ms/step - loss: 9.2502e-04 - mean_absolute_error: 0.0197\n",
      "Epoch 8/20\n",
      "1332/1332 [==============================] - 15s 11ms/step - loss: 9.1983e-04 - mean_absolute_error: 0.0196\n",
      "Epoch 9/20\n",
      "1332/1332 [==============================] - 15s 11ms/step - loss: 9.2143e-04 - mean_absolute_error: 0.0196\n",
      "Epoch 10/20\n",
      "1332/1332 [==============================] - 14s 11ms/step - loss: 9.1319e-04 - mean_absolute_error: 0.0195\n",
      "Epoch 11/20\n",
      "1332/1332 [==============================] - 14s 11ms/step - loss: 9.1337e-04 - mean_absolute_error: 0.0195\n",
      "Epoch 12/20\n",
      "1332/1332 [==============================] - 14s 10ms/step - loss: 9.1610e-04 - mean_absolute_error: 0.0195\n",
      "Epoch 13/20\n",
      "1332/1332 [==============================] - 14s 11ms/step - loss: 9.1213e-04 - mean_absolute_error: 0.0195\n",
      "Epoch 14/20\n",
      "1332/1332 [==============================] - 14s 11ms/step - loss: 9.1523e-04 - mean_absolute_error: 0.0195\n",
      "Epoch 15/20\n",
      "1332/1332 [==============================] - 14s 11ms/step - loss: 9.1118e-04 - mean_absolute_error: 0.0194\n",
      "Epoch 16/20\n",
      "1332/1332 [==============================] - 14s 11ms/step - loss: 9.1261e-04 - mean_absolute_error: 0.0195\n",
      "Epoch 17/20\n",
      "1332/1332 [==============================] - 14s 11ms/step - loss: 9.1245e-04 - mean_absolute_error: 0.0194\n",
      "Epoch 18/20\n",
      "1332/1332 [==============================] - 14s 11ms/step - loss: 9.1293e-04 - mean_absolute_error: 0.0195\n",
      "Epoch 19/20\n",
      "1332/1332 [==============================] - 14s 11ms/step - loss: 9.1152e-04 - mean_absolute_error: 0.0194\n",
      "Epoch 20/20\n",
      "1332/1332 [==============================] - 14s 11ms/step - loss: 9.1120e-04 - mean_absolute_error: 0.0194\n"
     ]
    },
    {
     "data": {
      "text/plain": [
       "<keras.callbacks.History at 0x19692bb0a90>"
      ]
     },
     "execution_count": 42,
     "metadata": {},
     "output_type": "execute_result"
    }
   ],
   "source": [
    "model.fit(X_5, y_5, epochs=20, batch_size=64)"
   ]
  },
  {
   "cell_type": "code",
   "execution_count": 43,
   "metadata": {},
   "outputs": [],
   "source": [
    "dataset_total = pd.concat((df_train,df_test), axis=0)"
   ]
  },
  {
   "cell_type": "code",
   "execution_count": 44,
   "metadata": {},
   "outputs": [],
   "source": [
    "inputs = dataset_total[len(dataset_total)-len(df_test)-WINDOWSIZE:].values\n",
    "inputs = inputs.reshape(-1,1)\n",
    "inputs = scaler.transform(inputs)"
   ]
  },
  {
   "cell_type": "code",
   "execution_count": 45,
   "metadata": {},
   "outputs": [],
   "source": [
    "X_test = []\n",
    "for i in range(WINDOWSIZE,len(inputs)):\n",
    "    X_test.append(inputs[i-WINDOWSIZE:i, 0])"
   ]
  },
  {
   "cell_type": "code",
   "execution_count": 46,
   "metadata": {},
   "outputs": [],
   "source": [
    "X_test = np.array(X_test)"
   ]
  },
  {
   "cell_type": "code",
   "execution_count": 47,
   "metadata": {},
   "outputs": [
    {
     "data": {
      "text/plain": [
       "(36513, 5)"
      ]
     },
     "execution_count": 47,
     "metadata": {},
     "output_type": "execute_result"
    }
   ],
   "source": [
    "X_test.shape"
   ]
  },
  {
   "cell_type": "code",
   "execution_count": 48,
   "metadata": {},
   "outputs": [
    {
     "data": {
      "text/plain": [
       "(36513, 5, 1)"
      ]
     },
     "execution_count": 48,
     "metadata": {},
     "output_type": "execute_result"
    }
   ],
   "source": [
    "X_test = np.reshape(X_test, (X_test.shape[0],X_test.shape[1],1))\n",
    "X_test.shape"
   ]
  },
  {
   "cell_type": "code",
   "execution_count": 49,
   "metadata": {},
   "outputs": [],
   "source": [
    "test_predictions5 = model.predict(X_test)\n",
    "test_predictions5 = scaler.inverse_transform(test_predictions5)"
   ]
  },
  {
   "cell_type": "code",
   "execution_count": 50,
   "metadata": {},
   "outputs": [
    {
     "data": {
      "text/plain": [
       "<matplotlib.legend.Legend at 0x1969aafefd0>"
      ]
     },
     "execution_count": 50,
     "metadata": {},
     "output_type": "execute_result"
    },
    {
     "data": {
      "image/png": "[encoded data removed]",
      "text/plain": [
       "<Figure size 432x288 with 1 Axes>"
      ]
     },
     "metadata": {
      "needs_background": "light"
     },
     "output_type": "display_data"
    }
   ],
   "source": [
    "plt.plot(df_test.index, test_predictions5)\n",
    "plt.plot(df_test.index, df_test.values)\n",
    "plt.xticks(rotation=90)\n",
    "plt.legend(['Testing Predictions', 'Testing Observations'])"
   ]
  },
  {
   "cell_type": "code",
   "execution_count": 51,
   "metadata": {},
   "outputs": [],
   "source": [
    "te = df_test.values"
   ]
  },
  {
   "cell_type": "code",
   "execution_count": 52,
   "metadata": {},
   "outputs": [
    {
     "data": {
      "text/plain": [
       "(36513,)"
      ]
     },
     "execution_count": 52,
     "metadata": {},
     "output_type": "execute_result"
    }
   ],
   "source": [
    "df_test.index.shape"
   ]
  },
  {
   "cell_type": "code",
   "execution_count": 53,
   "metadata": {},
   "outputs": [],
   "source": [
    "test_predictions5 = np.reshape(test_predictions5,(df_test.index.shape[0],))"
   ]
  },
  {
   "cell_type": "code",
   "execution_count": 54,
   "metadata": {},
   "outputs": [],
   "source": [
    "te = np.reshape(te,(df_test.index.shape[0],))"
   ]
  },
  {
   "cell_type": "code",
   "execution_count": 55,
   "metadata": {},
   "outputs": [
    {
     "data": {
      "text/html": [
       "<div>\n",
       "<style scoped>\n",
       "    .dataframe tbody tr th:only-of-type {\n",
       "        vertical-align: middle;\n",
       "    }\n",
       "\n",
       "    .dataframe tbody tr th {\n",
       "        vertical-align: top;\n",
       "    }\n",
       "\n",
       "    .dataframe thead th {\n",
       "        text-align: right;\n",
       "    }\n",
       "</style>\n",
       "<table border=\"1\" class=\"dataframe\">\n",
       "  <thead>\n",
       "    <tr style=\"text-align: right;\">\n",
       "      <th></th>\n",
       "      <th>Test Predictions</th>\n",
       "      <th>Actuals</th>\n",
       "    </tr>\n",
       "    <tr>\n",
       "      <th>estimated</th>\n",
       "      <th></th>\n",
       "      <th></th>\n",
       "    </tr>\n",
       "  </thead>\n",
       "  <tbody>\n",
       "    <tr>\n",
       "      <th>2019-05-11</th>\n",
       "      <td>-11.806124</td>\n",
       "      <td>3</td>\n",
       "    </tr>\n",
       "    <tr>\n",
       "      <th>2019-05-11</th>\n",
       "      <td>-9.419695</td>\n",
       "      <td>-43</td>\n",
       "    </tr>\n",
       "    <tr>\n",
       "      <th>2019-05-11</th>\n",
       "      <td>-13.421645</td>\n",
       "      <td>-2</td>\n",
       "    </tr>\n",
       "    <tr>\n",
       "      <th>2019-05-11</th>\n",
       "      <td>-10.748589</td>\n",
       "      <td>-15</td>\n",
       "    </tr>\n",
       "    <tr>\n",
       "      <th>2019-05-11</th>\n",
       "      <td>-11.973964</td>\n",
       "      <td>-18</td>\n",
       "    </tr>\n",
       "    <tr>\n",
       "      <th>...</th>\n",
       "      <td>...</td>\n",
       "      <td>...</td>\n",
       "    </tr>\n",
       "    <tr>\n",
       "      <th>2019-10-16</th>\n",
       "      <td>-38.907078</td>\n",
       "      <td>-47</td>\n",
       "    </tr>\n",
       "    <tr>\n",
       "      <th>2019-10-16</th>\n",
       "      <td>-41.299221</td>\n",
       "      <td>-47</td>\n",
       "    </tr>\n",
       "    <tr>\n",
       "      <th>2019-10-17</th>\n",
       "      <td>-44.045555</td>\n",
       "      <td>-50</td>\n",
       "    </tr>\n",
       "    <tr>\n",
       "      <th>2019-10-23</th>\n",
       "      <td>-42.235146</td>\n",
       "      <td>-55</td>\n",
       "    </tr>\n",
       "    <tr>\n",
       "      <th>2019-10-25</th>\n",
       "      <td>-43.779358</td>\n",
       "      <td>-56</td>\n",
       "    </tr>\n",
       "  </tbody>\n",
       "</table>\n",
       "<p>36513 rows × 2 columns</p>\n",
       "</div>"
      ],
      "text/plain": [
       "            Test Predictions  Actuals\n",
       "estimated                            \n",
       "2019-05-11        -11.806124        3\n",
       "2019-05-11         -9.419695      -43\n",
       "2019-05-11        -13.421645       -2\n",
       "2019-05-11        -10.748589      -15\n",
       "2019-05-11        -11.973964      -18\n",
       "...                      ...      ...\n",
       "2019-10-16        -38.907078      -47\n",
       "2019-10-16        -41.299221      -47\n",
       "2019-10-17        -44.045555      -50\n",
       "2019-10-23        -42.235146      -55\n",
       "2019-10-25        -43.779358      -56\n",
       "\n",
       "[36513 rows x 2 columns]"
      ]
     },
     "execution_count": 55,
     "metadata": {},
     "output_type": "execute_result"
    }
   ],
   "source": [
    "test_results5 = pd.DataFrame(data={'Test Predictions':test_predictions5, 'Actuals':te},index=df_test.index)\n",
    "test_results5"
   ]
  },
  {
   "cell_type": "code",
   "execution_count": 56,
   "metadata": {},
   "outputs": [
    {
     "data": {
      "text/plain": [
       "9.043119346073246"
      ]
     },
     "execution_count": 56,
     "metadata": {},
     "output_type": "execute_result"
    }
   ],
   "source": [
    "rmse5=np.sqrt(np.mean(((test_results5['Test Predictions']- test_results5['Actuals'])**2)))\n",
    "rmse5"
   ]
  },
  {
   "cell_type": "code",
   "execution_count": 57,
   "metadata": {},
   "outputs": [
    {
     "data": {
      "text/plain": [
       "6.732986927032471"
      ]
     },
     "execution_count": 57,
     "metadata": {},
     "output_type": "execute_result"
    }
   ],
   "source": [
    "mae5 = np.mean(np.abs(test_results5['Test Predictions']-test_results5['Actuals']))\n",
    "mae5"
   ]
  },
  {
   "cell_type": "markdown",
   "metadata": {},
   "source": [
    "## How to improve delivery performance?"
   ]
  },
  {
   "cell_type": "markdown",
   "metadata": {},
   "source": [
    "In order to find ways to optimise delivery times, we are focusing on logistic regression.\n",
    "\n",
    "Our goal here is to find deliveries that have suffered and to suggest solutions to improve the customer experience. It is natural that this requirement requires us to analyse the dataset of deliveries and their columns."
   ]
  },
  {
   "cell_type": "markdown",
   "metadata": {},
   "source": [
    "In order to do a better analysis, is important to have the zip codes of the spanish cities. So, we created this variable and add it to our deliveries dataset. "
   ]
  },
  {
   "cell_type": "code",
   "execution_count": 58,
   "metadata": {},
   "outputs": [],
   "source": [
    "zip(geoloc.geo_autonomous_community, geoloc.geo_admin1_code)\n",
    "list(zip(geoloc.geo_autonomous_community, geoloc.geo_admin1_code))\n",
    "equiv = dict(zip(geoloc.geo_autonomous_community, geoloc.geo_admin1_code))\n",
    "customers['cust_zip_code'] = customers['customer_autonomous_community'].map(equiv)\n",
    "sellers['sell_zip_code'] = sellers['seller_autonomous_community'].map(equiv)"
   ]
  },
  {
   "cell_type": "code",
   "execution_count": 59,
   "metadata": {},
   "outputs": [
    {
     "data": {
      "text/plain": [
       "Index(['customer_id', 'customer_unique_id', 'customer_autonomous_community',\n",
       "       'customer_city', 'cust_zip_code'],\n",
       "      dtype='object')"
      ]
     },
     "execution_count": 59,
     "metadata": {},
     "output_type": "execute_result"
    }
   ],
   "source": [
    "customers.columns"
   ]
  },
  {
   "cell_type": "code",
   "execution_count": 60,
   "metadata": {},
   "outputs": [],
   "source": [
    "deliveries=customers.rename(columns={'cust_zip_code':'geolocation_zip_code_prefix'})"
   ]
  },
  {
   "cell_type": "code",
   "execution_count": 61,
   "metadata": {},
   "outputs": [],
   "source": [
    "deliveries = deliveries[['customer_id', 'geolocation_zip_code_prefix', 'customer_city', 'customer_autonomous_community']]"
   ]
  },
  {
   "cell_type": "code",
   "execution_count": 62,
   "metadata": {},
   "outputs": [],
   "source": [
    "deliveries = deliveries.merge(orders, on='customer_id', how='inner')"
   ]
  },
  {
   "cell_type": "code",
   "execution_count": 63,
   "metadata": {},
   "outputs": [],
   "source": [
    "deliveries = deliveries.merge(order_items, on='order_id', how='inner')"
   ]
  },
  {
   "cell_type": "code",
   "execution_count": 64,
   "metadata": {},
   "outputs": [
    {
     "data": {
      "text/plain": [
       "Index(['customer_id', 'geolocation_zip_code_prefix', 'customer_city',\n",
       "       'customer_autonomous_community', 'order_id', 'order_status',\n",
       "       'ts_order_purchase', 'ts_order_approved', 'ts_order_delivered_carrier',\n",
       "       'ts_order_delivered_customer', 'ts_order_estimated_delivery',\n",
       "       'order_item_sequence_id', 'product_id', 'price', 'shipping_cost',\n",
       "       'seller_id', 'max_shipping_seller_date'],\n",
       "      dtype='object')"
      ]
     },
     "execution_count": 64,
     "metadata": {},
     "output_type": "execute_result"
    }
   ],
   "source": [
    "deliveries.columns"
   ]
  },
  {
   "cell_type": "code",
   "execution_count": 65,
   "metadata": {},
   "outputs": [],
   "source": [
    "deliveries = deliveries[['customer_id', 'geolocation_zip_code_prefix', 'customer_city',\n",
    "                     'customer_autonomous_community', 'ts_order_approved', 'ts_order_delivered_carrier', \n",
    "                     'ts_order_delivered_customer', \n",
    "                     'ts_order_estimated_delivery', 'max_shipping_seller_date', 'shipping_cost']]"
   ]
  },
  {
   "cell_type": "code",
   "execution_count": 66,
   "metadata": {},
   "outputs": [
    {
     "name": "stdout",
     "output_type": "stream",
     "text": [
      "<class 'pandas.core.frame.DataFrame'>\n",
      "Int64Index: 112695 entries, 0 to 112694\n",
      "Data columns (total 10 columns):\n",
      " #   Column                         Non-Null Count   Dtype \n",
      "---  ------                         --------------   ----- \n",
      " 0   customer_id                    112695 non-null  object\n",
      " 1   geolocation_zip_code_prefix    112695 non-null  int64 \n",
      " 2   customer_city                  112695 non-null  object\n",
      " 3   customer_autonomous_community  112695 non-null  object\n",
      " 4   ts_order_approved              112670 non-null  object\n",
      " 5   ts_order_delivered_carrier     111481 non-null  object\n",
      " 6   ts_order_delivered_customer    110221 non-null  object\n",
      " 7   ts_order_estimated_delivery    112675 non-null  object\n",
      " 8   max_shipping_seller_date       112695 non-null  object\n",
      " 9   shipping_cost                  112695 non-null  object\n",
      "dtypes: int64(1), object(9)\n",
      "memory usage: 9.5+ MB\n"
     ]
    }
   ],
   "source": [
    "deliveries.info() #transfom shipping cost to float?"
   ]
  },
  {
   "cell_type": "markdown",
   "metadata": {},
   "source": [
    "Transform object to datetime"
   ]
  },
  {
   "cell_type": "code",
   "execution_count": 67,
   "metadata": {},
   "outputs": [],
   "source": [
    "deliveries['ts_order_estimated_delivery'] = pd.to_datetime(deliveries['ts_order_estimated_delivery'])\n",
    "deliveries['ts_order_delivered_customer'] = pd.to_datetime(deliveries['ts_order_delivered_customer'])\n",
    "deliveries['ts_order_delivered_carrier'] = pd.to_datetime(deliveries['ts_order_delivered_carrier'])\n",
    "deliveries['ts_order_approved'] = pd.to_datetime(deliveries['ts_order_approved'])"
   ]
  },
  {
   "cell_type": "markdown",
   "metadata": {},
   "source": [
    "We have noticed that there is a good chance of gaining insights by comparing the columns \"ts_order_estimated_delivery\" and \"ts_order_delivered_customer\", which represent the estimated time the product arrived at the customer's address, and the time the product actually took to arrive. Based on this, we created a new column called \"diff\". which represents the difference between the estimated date and the actual date.\n"
   ]
  },
  {
   "cell_type": "code",
   "execution_count": 68,
   "metadata": {},
   "outputs": [],
   "source": [
    "deliveries['diff'] = deliveries['ts_order_estimated_delivery'] - deliveries['ts_order_delivered_customer']"
   ]
  },
  {
   "cell_type": "code",
   "execution_count": 69,
   "metadata": {},
   "outputs": [],
   "source": [
    "deliveries = deliveries.dropna()"
   ]
  },
  {
   "cell_type": "code",
   "execution_count": 70,
   "metadata": {},
   "outputs": [
    {
     "data": {
      "text/html": [
       "<div>\n",
       "<style scoped>\n",
       "    .dataframe tbody tr th:only-of-type {\n",
       "        vertical-align: middle;\n",
       "    }\n",
       "\n",
       "    .dataframe tbody tr th {\n",
       "        vertical-align: top;\n",
       "    }\n",
       "\n",
       "    .dataframe thead th {\n",
       "        text-align: right;\n",
       "    }\n",
       "</style>\n",
       "<table border=\"1\" class=\"dataframe\">\n",
       "  <thead>\n",
       "    <tr style=\"text-align: right;\">\n",
       "      <th></th>\n",
       "      <th>customer_id</th>\n",
       "      <th>geolocation_zip_code_prefix</th>\n",
       "      <th>customer_city</th>\n",
       "      <th>customer_autonomous_community</th>\n",
       "      <th>ts_order_approved</th>\n",
       "      <th>ts_order_delivered_carrier</th>\n",
       "      <th>ts_order_delivered_customer</th>\n",
       "      <th>ts_order_estimated_delivery</th>\n",
       "      <th>max_shipping_seller_date</th>\n",
       "      <th>shipping_cost</th>\n",
       "      <th>diff</th>\n",
       "    </tr>\n",
       "  </thead>\n",
       "  <tbody>\n",
       "    <tr>\n",
       "      <th>0</th>\n",
       "      <td>06b8999e2fba1a1fbc88172c00ba8bc7</td>\n",
       "      <td>51</td>\n",
       "      <td>Málaga</td>\n",
       "      <td>Andalucía</td>\n",
       "      <td>2018-05-16 15:22:00</td>\n",
       "      <td>2018-05-23 10:47:00</td>\n",
       "      <td>2018-05-25 10:35:00</td>\n",
       "      <td>2018-05-06</td>\n",
       "      <td>22/05/2018 15:22</td>\n",
       "      <td>21,88</td>\n",
       "      <td>-20 days +13:25:00</td>\n",
       "    </tr>\n",
       "    <tr>\n",
       "      <th>2</th>\n",
       "      <td>4e7b3e00288586ebd08712fdd0374a03</td>\n",
       "      <td>29</td>\n",
       "      <td>Madrid</td>\n",
       "      <td>Comunidad de Madrid</td>\n",
       "      <td>2019-05-20 16:19:00</td>\n",
       "      <td>2019-11-06 14:31:00</td>\n",
       "      <td>2019-06-14 17:58:00</td>\n",
       "      <td>2019-06-13</td>\n",
       "      <td>05/06/2019 16:19</td>\n",
       "      <td>17,79</td>\n",
       "      <td>-2 days +06:02:00</td>\n",
       "    </tr>\n",
       "    <tr>\n",
       "      <th>4</th>\n",
       "      <td>4f2d8ab171c80ec8364f7c12e35b23ad</td>\n",
       "      <td>51</td>\n",
       "      <td>Málaga</td>\n",
       "      <td>Andalucía</td>\n",
       "      <td>2019-07-29 10:10:00</td>\n",
       "      <td>2019-07-30 15:16:00</td>\n",
       "      <td>2019-09-08 20:55:00</td>\n",
       "      <td>2019-08-15</td>\n",
       "      <td>31/07/2019 10:10</td>\n",
       "      <td>22,25</td>\n",
       "      <td>-25 days +03:05:00</td>\n",
       "    </tr>\n",
       "    <tr>\n",
       "      <th>5</th>\n",
       "      <td>879864dab9bc3047522c92c82e1212b8</td>\n",
       "      <td>55</td>\n",
       "      <td>Valladolid</td>\n",
       "      <td>Castilla y León</td>\n",
       "      <td>2018-09-14 18:25:00</td>\n",
       "      <td>2018-09-18 21:27:00</td>\n",
       "      <td>2018-09-28 17:32:00</td>\n",
       "      <td>2018-04-10</td>\n",
       "      <td>20/09/2018 18:25</td>\n",
       "      <td>22,31</td>\n",
       "      <td>-172 days +06:28:00</td>\n",
       "    </tr>\n",
       "    <tr>\n",
       "      <th>7</th>\n",
       "      <td>5e274e7a0c3809e14aba7ad5aae0d407</td>\n",
       "      <td>29</td>\n",
       "      <td>Alcorcón</td>\n",
       "      <td>Comunidad de Madrid</td>\n",
       "      <td>2018-11-16 19:55:00</td>\n",
       "      <td>2018-11-22 16:46:00</td>\n",
       "      <td>2018-11-27 12:44:00</td>\n",
       "      <td>2018-08-12</td>\n",
       "      <td>22/11/2018 19:55</td>\n",
       "      <td>16,11</td>\n",
       "      <td>-108 days +11:16:00</td>\n",
       "    </tr>\n",
       "    <tr>\n",
       "      <th>...</th>\n",
       "      <td>...</td>\n",
       "      <td>...</td>\n",
       "      <td>...</td>\n",
       "      <td>...</td>\n",
       "      <td>...</td>\n",
       "      <td>...</td>\n",
       "      <td>...</td>\n",
       "      <td>...</td>\n",
       "      <td>...</td>\n",
       "      <td>...</td>\n",
       "      <td>...</td>\n",
       "    </tr>\n",
       "    <tr>\n",
       "      <th>112687</th>\n",
       "      <td>14308d2303a3e2bdf4939b86c46d2679</td>\n",
       "      <td>57</td>\n",
       "      <td>Badajoz</td>\n",
       "      <td>Extremadura</td>\n",
       "      <td>2018-03-15 21:04:00</td>\n",
       "      <td>2018-03-20 08:34:00</td>\n",
       "      <td>2018-05-04 11:07:00</td>\n",
       "      <td>2018-04-26</td>\n",
       "      <td>28/03/2018 21:04</td>\n",
       "      <td>24,42</td>\n",
       "      <td>-9 days +12:53:00</td>\n",
       "    </tr>\n",
       "    <tr>\n",
       "      <th>112689</th>\n",
       "      <td>7fe2e80252a9ea476f950ae8f85b0f8f</td>\n",
       "      <td>29</td>\n",
       "      <td>Madrid</td>\n",
       "      <td>Comunidad de Madrid</td>\n",
       "      <td>2018-12-18 00:17:00</td>\n",
       "      <td>2018-12-20 18:52:00</td>\n",
       "      <td>2019-04-01 13:08:00</td>\n",
       "      <td>2019-01-23</td>\n",
       "      <td>03/01/2019 00:17</td>\n",
       "      <td>20,88</td>\n",
       "      <td>-69 days +10:52:00</td>\n",
       "    </tr>\n",
       "    <tr>\n",
       "      <th>112691</th>\n",
       "      <td>e7b71a9017aa05c9a7fd292d714858e8</td>\n",
       "      <td>51</td>\n",
       "      <td>Granada</td>\n",
       "      <td>Andalucía</td>\n",
       "      <td>2019-04-04 08:35:00</td>\n",
       "      <td>2019-05-04 18:42:00</td>\n",
       "      <td>2019-11-04 18:54:00</td>\n",
       "      <td>2019-04-20</td>\n",
       "      <td>10/04/2019 08:35</td>\n",
       "      <td>14,16</td>\n",
       "      <td>-199 days +05:06:00</td>\n",
       "    </tr>\n",
       "    <tr>\n",
       "      <th>112692</th>\n",
       "      <td>5e28dfe12db7fb50a4b2f691faecea5e</td>\n",
       "      <td>7</td>\n",
       "      <td>Palma de Mallorca - Mallorca</td>\n",
       "      <td>Baleares</td>\n",
       "      <td>2019-08-04 20:30:00</td>\n",
       "      <td>2019-09-04 17:52:00</td>\n",
       "      <td>2019-09-05 19:03:00</td>\n",
       "      <td>2019-02-05</td>\n",
       "      <td>12/04/2019 20:30</td>\n",
       "      <td>19,04</td>\n",
       "      <td>-213 days +04:57:00</td>\n",
       "    </tr>\n",
       "    <tr>\n",
       "      <th>112693</th>\n",
       "      <td>56b18e2166679b8a959d72dd06da27f9</td>\n",
       "      <td>60</td>\n",
       "      <td>Castellón</td>\n",
       "      <td>Comunidad Valenciana</td>\n",
       "      <td>2018-03-11 21:31:00</td>\n",
       "      <td>2018-06-11 18:24:00</td>\n",
       "      <td>2018-11-16 19:58:00</td>\n",
       "      <td>2018-05-12</td>\n",
       "      <td>09/11/2018 21:15</td>\n",
       "      <td>22,07</td>\n",
       "      <td>-189 days +04:02:00</td>\n",
       "    </tr>\n",
       "  </tbody>\n",
       "</table>\n",
       "<p>38873 rows × 11 columns</p>\n",
       "</div>"
      ],
      "text/plain": [
       "                             customer_id  geolocation_zip_code_prefix  \\\n",
       "0       06b8999e2fba1a1fbc88172c00ba8bc7                           51   \n",
       "2       4e7b3e00288586ebd08712fdd0374a03                           29   \n",
       "4       4f2d8ab171c80ec8364f7c12e35b23ad                           51   \n",
       "5       879864dab9bc3047522c92c82e1212b8                           55   \n",
       "7       5e274e7a0c3809e14aba7ad5aae0d407                           29   \n",
       "...                                  ...                          ...   \n",
       "112687  14308d2303a3e2bdf4939b86c46d2679                           57   \n",
       "112689  7fe2e80252a9ea476f950ae8f85b0f8f                           29   \n",
       "112691  e7b71a9017aa05c9a7fd292d714858e8                           51   \n",
       "112692  5e28dfe12db7fb50a4b2f691faecea5e                            7   \n",
       "112693  56b18e2166679b8a959d72dd06da27f9                           60   \n",
       "\n",
       "                       customer_city customer_autonomous_community  \\\n",
       "0                             Málaga                     Andalucía   \n",
       "2                             Madrid           Comunidad de Madrid   \n",
       "4                             Málaga                     Andalucía   \n",
       "5                         Valladolid               Castilla y León   \n",
       "7                           Alcorcón           Comunidad de Madrid   \n",
       "...                              ...                           ...   \n",
       "112687                       Badajoz                   Extremadura   \n",
       "112689                        Madrid           Comunidad de Madrid   \n",
       "112691                       Granada                     Andalucía   \n",
       "112692  Palma de Mallorca - Mallorca                      Baleares   \n",
       "112693                     Castellón          Comunidad Valenciana   \n",
       "\n",
       "         ts_order_approved ts_order_delivered_carrier  \\\n",
       "0      2018-05-16 15:22:00        2018-05-23 10:47:00   \n",
       "2      2019-05-20 16:19:00        2019-11-06 14:31:00   \n",
       "4      2019-07-29 10:10:00        2019-07-30 15:16:00   \n",
       "5      2018-09-14 18:25:00        2018-09-18 21:27:00   \n",
       "7      2018-11-16 19:55:00        2018-11-22 16:46:00   \n",
       "...                    ...                        ...   \n",
       "112687 2018-03-15 21:04:00        2018-03-20 08:34:00   \n",
       "112689 2018-12-18 00:17:00        2018-12-20 18:52:00   \n",
       "112691 2019-04-04 08:35:00        2019-05-04 18:42:00   \n",
       "112692 2019-08-04 20:30:00        2019-09-04 17:52:00   \n",
       "112693 2018-03-11 21:31:00        2018-06-11 18:24:00   \n",
       "\n",
       "       ts_order_delivered_customer ts_order_estimated_delivery  \\\n",
       "0              2018-05-25 10:35:00                  2018-05-06   \n",
       "2              2019-06-14 17:58:00                  2019-06-13   \n",
       "4              2019-09-08 20:55:00                  2019-08-15   \n",
       "5              2018-09-28 17:32:00                  2018-04-10   \n",
       "7              2018-11-27 12:44:00                  2018-08-12   \n",
       "...                            ...                         ...   \n",
       "112687         2018-05-04 11:07:00                  2018-04-26   \n",
       "112689         2019-04-01 13:08:00                  2019-01-23   \n",
       "112691         2019-11-04 18:54:00                  2019-04-20   \n",
       "112692         2019-09-05 19:03:00                  2019-02-05   \n",
       "112693         2018-11-16 19:58:00                  2018-05-12   \n",
       "\n",
       "       max_shipping_seller_date shipping_cost                diff  \n",
       "0              22/05/2018 15:22         21,88  -20 days +13:25:00  \n",
       "2              05/06/2019 16:19         17,79   -2 days +06:02:00  \n",
       "4              31/07/2019 10:10         22,25  -25 days +03:05:00  \n",
       "5              20/09/2018 18:25         22,31 -172 days +06:28:00  \n",
       "7              22/11/2018 19:55         16,11 -108 days +11:16:00  \n",
       "...                         ...           ...                 ...  \n",
       "112687         28/03/2018 21:04         24,42   -9 days +12:53:00  \n",
       "112689         03/01/2019 00:17         20,88  -69 days +10:52:00  \n",
       "112691         10/04/2019 08:35         14,16 -199 days +05:06:00  \n",
       "112692         12/04/2019 20:30         19,04 -213 days +04:57:00  \n",
       "112693         09/11/2018 21:15         22,07 -189 days +04:02:00  \n",
       "\n",
       "[38873 rows x 11 columns]"
      ]
     },
     "execution_count": 70,
     "metadata": {},
     "output_type": "execute_result"
    }
   ],
   "source": [
    "deliveries[deliveries['diff'] < '0 days']"
   ]
  },
  {
   "cell_type": "markdown",
   "metadata": {},
   "source": [
    "We have a hypothesis. Maybe these delays are due to some process in the delivery of the product to the carrier? The \"ts_order_delivered_carrier\" column can help us verify this.\n",
    "\n",
    "In order to do this verification, we have transformed our variable in a format that can be worked with mathematical operations."
   ]
  },
  {
   "cell_type": "code",
   "execution_count": 71,
   "metadata": {},
   "outputs": [],
   "source": [
    "deliveries['shipping_time'] = deliveries['ts_order_delivered_carrier'].dt.hour\n",
    "deliveries['diff'] = deliveries['diff'].astype(str)\n",
    "deliveries['diff'] = deliveries['diff'].str.replace(' days.*', '')"
   ]
  },
  {
   "cell_type": "code",
   "execution_count": 72,
   "metadata": {},
   "outputs": [
    {
     "data": {
      "text/html": [
       "<div>\n",
       "<style scoped>\n",
       "    .dataframe tbody tr th:only-of-type {\n",
       "        vertical-align: middle;\n",
       "    }\n",
       "\n",
       "    .dataframe tbody tr th {\n",
       "        vertical-align: top;\n",
       "    }\n",
       "\n",
       "    .dataframe thead th {\n",
       "        text-align: right;\n",
       "    }\n",
       "</style>\n",
       "<table border=\"1\" class=\"dataframe\">\n",
       "  <thead>\n",
       "    <tr style=\"text-align: right;\">\n",
       "      <th></th>\n",
       "      <th>customer_id</th>\n",
       "      <th>geolocation_zip_code_prefix</th>\n",
       "      <th>customer_city</th>\n",
       "      <th>customer_autonomous_community</th>\n",
       "      <th>ts_order_approved</th>\n",
       "      <th>ts_order_delivered_carrier</th>\n",
       "      <th>ts_order_delivered_customer</th>\n",
       "      <th>ts_order_estimated_delivery</th>\n",
       "      <th>max_shipping_seller_date</th>\n",
       "      <th>shipping_cost</th>\n",
       "      <th>diff</th>\n",
       "      <th>shipping_time</th>\n",
       "    </tr>\n",
       "  </thead>\n",
       "  <tbody>\n",
       "    <tr>\n",
       "      <th>0</th>\n",
       "      <td>06b8999e2fba1a1fbc88172c00ba8bc7</td>\n",
       "      <td>51</td>\n",
       "      <td>Málaga</td>\n",
       "      <td>Andalucía</td>\n",
       "      <td>2018-05-16 15:22:00</td>\n",
       "      <td>2018-05-23 10:47:00</td>\n",
       "      <td>2018-05-25 10:35:00</td>\n",
       "      <td>2018-05-06</td>\n",
       "      <td>22/05/2018 15:22</td>\n",
       "      <td>21,88</td>\n",
       "      <td>-20</td>\n",
       "      <td>10</td>\n",
       "    </tr>\n",
       "    <tr>\n",
       "      <th>1</th>\n",
       "      <td>18955e83d337fd6b2def6b18a428ac77</td>\n",
       "      <td>51</td>\n",
       "      <td>Granada</td>\n",
       "      <td>Andalucía</td>\n",
       "      <td>2019-12-01 20:58:00</td>\n",
       "      <td>2019-01-15 17:14:00</td>\n",
       "      <td>2019-01-29 12:41:00</td>\n",
       "      <td>2019-06-02</td>\n",
       "      <td>18/01/2019 20:58</td>\n",
       "      <td>46,48</td>\n",
       "      <td>123</td>\n",
       "      <td>17</td>\n",
       "    </tr>\n",
       "    <tr>\n",
       "      <th>2</th>\n",
       "      <td>4e7b3e00288586ebd08712fdd0374a03</td>\n",
       "      <td>29</td>\n",
       "      <td>Madrid</td>\n",
       "      <td>Comunidad de Madrid</td>\n",
       "      <td>2019-05-20 16:19:00</td>\n",
       "      <td>2019-11-06 14:31:00</td>\n",
       "      <td>2019-06-14 17:58:00</td>\n",
       "      <td>2019-06-13</td>\n",
       "      <td>05/06/2019 16:19</td>\n",
       "      <td>17,79</td>\n",
       "      <td>-2</td>\n",
       "      <td>14</td>\n",
       "    </tr>\n",
       "    <tr>\n",
       "      <th>3</th>\n",
       "      <td>b2b6027bc5c5109e529d4dc6358b12c3</td>\n",
       "      <td>51</td>\n",
       "      <td>Jaén</td>\n",
       "      <td>Andalucía</td>\n",
       "      <td>2019-03-13 17:29:00</td>\n",
       "      <td>2019-03-27 23:22:00</td>\n",
       "      <td>2019-03-28 16:04:00</td>\n",
       "      <td>2019-10-04</td>\n",
       "      <td>27/03/2019 16:31</td>\n",
       "      <td>23,36</td>\n",
       "      <td>189</td>\n",
       "      <td>23</td>\n",
       "    </tr>\n",
       "    <tr>\n",
       "      <th>4</th>\n",
       "      <td>4f2d8ab171c80ec8364f7c12e35b23ad</td>\n",
       "      <td>51</td>\n",
       "      <td>Málaga</td>\n",
       "      <td>Andalucía</td>\n",
       "      <td>2019-07-29 10:10:00</td>\n",
       "      <td>2019-07-30 15:16:00</td>\n",
       "      <td>2019-09-08 20:55:00</td>\n",
       "      <td>2019-08-15</td>\n",
       "      <td>31/07/2019 10:10</td>\n",
       "      <td>22,25</td>\n",
       "      <td>-25</td>\n",
       "      <td>15</td>\n",
       "    </tr>\n",
       "    <tr>\n",
       "      <th>...</th>\n",
       "      <td>...</td>\n",
       "      <td>...</td>\n",
       "      <td>...</td>\n",
       "      <td>...</td>\n",
       "      <td>...</td>\n",
       "      <td>...</td>\n",
       "      <td>...</td>\n",
       "      <td>...</td>\n",
       "      <td>...</td>\n",
       "      <td>...</td>\n",
       "      <td>...</td>\n",
       "      <td>...</td>\n",
       "    </tr>\n",
       "    <tr>\n",
       "      <th>112690</th>\n",
       "      <td>17ddf5dd5d51696bb3d7c6291687be6f</td>\n",
       "      <td>29</td>\n",
       "      <td>Madrid</td>\n",
       "      <td>Comunidad de Madrid</td>\n",
       "      <td>2019-07-04 16:08:00</td>\n",
       "      <td>2019-11-04 02:08:00</td>\n",
       "      <td>2019-04-13 20:06:00</td>\n",
       "      <td>2019-04-25</td>\n",
       "      <td>12/04/2019 16:08</td>\n",
       "      <td>13,88</td>\n",
       "      <td>11</td>\n",
       "      <td>2</td>\n",
       "    </tr>\n",
       "    <tr>\n",
       "      <th>112691</th>\n",
       "      <td>e7b71a9017aa05c9a7fd292d714858e8</td>\n",
       "      <td>51</td>\n",
       "      <td>Granada</td>\n",
       "      <td>Andalucía</td>\n",
       "      <td>2019-04-04 08:35:00</td>\n",
       "      <td>2019-05-04 18:42:00</td>\n",
       "      <td>2019-11-04 18:54:00</td>\n",
       "      <td>2019-04-20</td>\n",
       "      <td>10/04/2019 08:35</td>\n",
       "      <td>14,16</td>\n",
       "      <td>-199</td>\n",
       "      <td>18</td>\n",
       "    </tr>\n",
       "    <tr>\n",
       "      <th>112692</th>\n",
       "      <td>5e28dfe12db7fb50a4b2f691faecea5e</td>\n",
       "      <td>7</td>\n",
       "      <td>Palma de Mallorca - Mallorca</td>\n",
       "      <td>Baleares</td>\n",
       "      <td>2019-08-04 20:30:00</td>\n",
       "      <td>2019-09-04 17:52:00</td>\n",
       "      <td>2019-09-05 19:03:00</td>\n",
       "      <td>2019-02-05</td>\n",
       "      <td>12/04/2019 20:30</td>\n",
       "      <td>19,04</td>\n",
       "      <td>-213</td>\n",
       "      <td>17</td>\n",
       "    </tr>\n",
       "    <tr>\n",
       "      <th>112693</th>\n",
       "      <td>56b18e2166679b8a959d72dd06da27f9</td>\n",
       "      <td>60</td>\n",
       "      <td>Castellón</td>\n",
       "      <td>Comunidad Valenciana</td>\n",
       "      <td>2018-03-11 21:31:00</td>\n",
       "      <td>2018-06-11 18:24:00</td>\n",
       "      <td>2018-11-16 19:58:00</td>\n",
       "      <td>2018-05-12</td>\n",
       "      <td>09/11/2018 21:15</td>\n",
       "      <td>22,07</td>\n",
       "      <td>-189</td>\n",
       "      <td>18</td>\n",
       "    </tr>\n",
       "    <tr>\n",
       "      <th>112694</th>\n",
       "      <td>274fa6071e5e17fe303b9748641082c8</td>\n",
       "      <td>51</td>\n",
       "      <td>Málaga</td>\n",
       "      <td>Andalucía</td>\n",
       "      <td>2018-12-19 18:50:00</td>\n",
       "      <td>2018-12-21 19:17:00</td>\n",
       "      <td>2018-12-26 18:42:00</td>\n",
       "      <td>2019-08-01</td>\n",
       "      <td>26/12/2018 18:50</td>\n",
       "      <td>7,78</td>\n",
       "      <td>217</td>\n",
       "      <td>19</td>\n",
       "    </tr>\n",
       "  </tbody>\n",
       "</table>\n",
       "<p>110205 rows × 12 columns</p>\n",
       "</div>"
      ],
      "text/plain": [
       "                             customer_id  geolocation_zip_code_prefix  \\\n",
       "0       06b8999e2fba1a1fbc88172c00ba8bc7                           51   \n",
       "1       18955e83d337fd6b2def6b18a428ac77                           51   \n",
       "2       4e7b3e00288586ebd08712fdd0374a03                           29   \n",
       "3       b2b6027bc5c5109e529d4dc6358b12c3                           51   \n",
       "4       4f2d8ab171c80ec8364f7c12e35b23ad                           51   \n",
       "...                                  ...                          ...   \n",
       "112690  17ddf5dd5d51696bb3d7c6291687be6f                           29   \n",
       "112691  e7b71a9017aa05c9a7fd292d714858e8                           51   \n",
       "112692  5e28dfe12db7fb50a4b2f691faecea5e                            7   \n",
       "112693  56b18e2166679b8a959d72dd06da27f9                           60   \n",
       "112694  274fa6071e5e17fe303b9748641082c8                           51   \n",
       "\n",
       "                       customer_city customer_autonomous_community  \\\n",
       "0                             Málaga                     Andalucía   \n",
       "1                            Granada                     Andalucía   \n",
       "2                             Madrid           Comunidad de Madrid   \n",
       "3                               Jaén                     Andalucía   \n",
       "4                             Málaga                     Andalucía   \n",
       "...                              ...                           ...   \n",
       "112690                        Madrid           Comunidad de Madrid   \n",
       "112691                       Granada                     Andalucía   \n",
       "112692  Palma de Mallorca - Mallorca                      Baleares   \n",
       "112693                     Castellón          Comunidad Valenciana   \n",
       "112694                        Málaga                     Andalucía   \n",
       "\n",
       "         ts_order_approved ts_order_delivered_carrier  \\\n",
       "0      2018-05-16 15:22:00        2018-05-23 10:47:00   \n",
       "1      2019-12-01 20:58:00        2019-01-15 17:14:00   \n",
       "2      2019-05-20 16:19:00        2019-11-06 14:31:00   \n",
       "3      2019-03-13 17:29:00        2019-03-27 23:22:00   \n",
       "4      2019-07-29 10:10:00        2019-07-30 15:16:00   \n",
       "...                    ...                        ...   \n",
       "112690 2019-07-04 16:08:00        2019-11-04 02:08:00   \n",
       "112691 2019-04-04 08:35:00        2019-05-04 18:42:00   \n",
       "112692 2019-08-04 20:30:00        2019-09-04 17:52:00   \n",
       "112693 2018-03-11 21:31:00        2018-06-11 18:24:00   \n",
       "112694 2018-12-19 18:50:00        2018-12-21 19:17:00   \n",
       "\n",
       "       ts_order_delivered_customer ts_order_estimated_delivery  \\\n",
       "0              2018-05-25 10:35:00                  2018-05-06   \n",
       "1              2019-01-29 12:41:00                  2019-06-02   \n",
       "2              2019-06-14 17:58:00                  2019-06-13   \n",
       "3              2019-03-28 16:04:00                  2019-10-04   \n",
       "4              2019-09-08 20:55:00                  2019-08-15   \n",
       "...                            ...                         ...   \n",
       "112690         2019-04-13 20:06:00                  2019-04-25   \n",
       "112691         2019-11-04 18:54:00                  2019-04-20   \n",
       "112692         2019-09-05 19:03:00                  2019-02-05   \n",
       "112693         2018-11-16 19:58:00                  2018-05-12   \n",
       "112694         2018-12-26 18:42:00                  2019-08-01   \n",
       "\n",
       "       max_shipping_seller_date shipping_cost  diff  shipping_time  \n",
       "0              22/05/2018 15:22         21,88   -20             10  \n",
       "1              18/01/2019 20:58         46,48   123             17  \n",
       "2              05/06/2019 16:19         17,79    -2             14  \n",
       "3              27/03/2019 16:31         23,36   189             23  \n",
       "4              31/07/2019 10:10         22,25   -25             15  \n",
       "...                         ...           ...   ...            ...  \n",
       "112690         12/04/2019 16:08         13,88    11              2  \n",
       "112691         10/04/2019 08:35         14,16  -199             18  \n",
       "112692         12/04/2019 20:30         19,04  -213             17  \n",
       "112693         09/11/2018 21:15         22,07  -189             18  \n",
       "112694         26/12/2018 18:50          7,78   217             19  \n",
       "\n",
       "[110205 rows x 12 columns]"
      ]
     },
     "execution_count": 72,
     "metadata": {},
     "output_type": "execute_result"
    }
   ],
   "source": [
    "deliveries"
   ]
  },
  {
   "cell_type": "code",
   "execution_count": 73,
   "metadata": {},
   "outputs": [],
   "source": [
    "deliveries['diff'] = deliveries['diff'].astype(int)"
   ]
  },
  {
   "cell_type": "markdown",
   "metadata": {},
   "source": [
    "We will now check deliveries to the carrier/post office that occurred after 6pm."
   ]
  },
  {
   "cell_type": "code",
   "execution_count": 74,
   "metadata": {},
   "outputs": [
    {
     "data": {
      "text/html": [
       "<div>\n",
       "<style scoped>\n",
       "    .dataframe tbody tr th:only-of-type {\n",
       "        vertical-align: middle;\n",
       "    }\n",
       "\n",
       "    .dataframe tbody tr th {\n",
       "        vertical-align: top;\n",
       "    }\n",
       "\n",
       "    .dataframe thead th {\n",
       "        text-align: right;\n",
       "    }\n",
       "</style>\n",
       "<table border=\"1\" class=\"dataframe\">\n",
       "  <thead>\n",
       "    <tr style=\"text-align: right;\">\n",
       "      <th></th>\n",
       "      <th>customer_id</th>\n",
       "      <th>geolocation_zip_code_prefix</th>\n",
       "      <th>customer_city</th>\n",
       "      <th>customer_autonomous_community</th>\n",
       "      <th>ts_order_approved</th>\n",
       "      <th>ts_order_delivered_carrier</th>\n",
       "      <th>ts_order_delivered_customer</th>\n",
       "      <th>ts_order_estimated_delivery</th>\n",
       "      <th>max_shipping_seller_date</th>\n",
       "      <th>shipping_cost</th>\n",
       "      <th>diff</th>\n",
       "      <th>shipping_time</th>\n",
       "    </tr>\n",
       "  </thead>\n",
       "  <tbody>\n",
       "    <tr>\n",
       "      <th>3</th>\n",
       "      <td>b2b6027bc5c5109e529d4dc6358b12c3</td>\n",
       "      <td>51</td>\n",
       "      <td>Jaén</td>\n",
       "      <td>Andalucía</td>\n",
       "      <td>2019-03-13 17:29:00</td>\n",
       "      <td>2019-03-27 23:22:00</td>\n",
       "      <td>2019-03-28 16:04:00</td>\n",
       "      <td>2019-10-04</td>\n",
       "      <td>27/03/2019 16:31</td>\n",
       "      <td>23,36</td>\n",
       "      <td>189</td>\n",
       "      <td>23</td>\n",
       "    </tr>\n",
       "    <tr>\n",
       "      <th>5</th>\n",
       "      <td>879864dab9bc3047522c92c82e1212b8</td>\n",
       "      <td>55</td>\n",
       "      <td>Valladolid</td>\n",
       "      <td>Castilla y León</td>\n",
       "      <td>2018-09-14 18:25:00</td>\n",
       "      <td>2018-09-18 21:27:00</td>\n",
       "      <td>2018-09-28 17:32:00</td>\n",
       "      <td>2018-04-10</td>\n",
       "      <td>20/09/2018 18:25</td>\n",
       "      <td>22,31</td>\n",
       "      <td>-172</td>\n",
       "      <td>21</td>\n",
       "    </tr>\n",
       "    <tr>\n",
       "      <th>8</th>\n",
       "      <td>5adf08e34b2e993982a47070956c5c65</td>\n",
       "      <td>58</td>\n",
       "      <td>Coruña</td>\n",
       "      <td>Galicia</td>\n",
       "      <td>2019-01-18 12:56:00</td>\n",
       "      <td>2019-01-18 23:25:00</td>\n",
       "      <td>2019-01-26 15:17:00</td>\n",
       "      <td>2019-02-20</td>\n",
       "      <td>30/01/2019 12:56</td>\n",
       "      <td>14,1</td>\n",
       "      <td>24</td>\n",
       "      <td>23</td>\n",
       "    </tr>\n",
       "    <tr>\n",
       "      <th>10</th>\n",
       "      <td>9fb35e4ed6f0a14a4977cd9aea4042bb</td>\n",
       "      <td>29</td>\n",
       "      <td>Getafe</td>\n",
       "      <td>Comunidad de Madrid</td>\n",
       "      <td>2018-11-27 18:01:00</td>\n",
       "      <td>2018-11-28 23:04:00</td>\n",
       "      <td>2018-08-12 22:16:00</td>\n",
       "      <td>2018-12-20</td>\n",
       "      <td>01/12/2018 18:01</td>\n",
       "      <td>15,1</td>\n",
       "      <td>129</td>\n",
       "      <td>23</td>\n",
       "    </tr>\n",
       "    <tr>\n",
       "      <th>13</th>\n",
       "      <td>eabebad39a88bb6f5b52376faec28612</td>\n",
       "      <td>29</td>\n",
       "      <td>Madrid</td>\n",
       "      <td>Comunidad de Madrid</td>\n",
       "      <td>2019-07-03 16:15:00</td>\n",
       "      <td>2019-12-03 23:02:00</td>\n",
       "      <td>2019-03-15 00:46:00</td>\n",
       "      <td>2019-03-19</td>\n",
       "      <td>13/03/2019 16:15</td>\n",
       "      <td>8,4</td>\n",
       "      <td>3</td>\n",
       "      <td>23</td>\n",
       "    </tr>\n",
       "    <tr>\n",
       "      <th>...</th>\n",
       "      <td>...</td>\n",
       "      <td>...</td>\n",
       "      <td>...</td>\n",
       "      <td>...</td>\n",
       "      <td>...</td>\n",
       "      <td>...</td>\n",
       "      <td>...</td>\n",
       "      <td>...</td>\n",
       "      <td>...</td>\n",
       "      <td>...</td>\n",
       "      <td>...</td>\n",
       "      <td>...</td>\n",
       "    </tr>\n",
       "    <tr>\n",
       "      <th>112675</th>\n",
       "      <td>5eef6cce1f34954c9e7004332388ccc7</td>\n",
       "      <td>51</td>\n",
       "      <td>Almería</td>\n",
       "      <td>Andalucía</td>\n",
       "      <td>2019-03-15 03:29:00</td>\n",
       "      <td>2019-03-16 23:15:00</td>\n",
       "      <td>2019-03-23 02:47:00</td>\n",
       "      <td>2019-03-29</td>\n",
       "      <td>21/03/2019 03:29</td>\n",
       "      <td>14,22</td>\n",
       "      <td>5</td>\n",
       "      <td>23</td>\n",
       "    </tr>\n",
       "    <tr>\n",
       "      <th>112677</th>\n",
       "      <td>c6ece8a5137f3c9c3a3a12302a19a2ac</td>\n",
       "      <td>29</td>\n",
       "      <td>Madrid</td>\n",
       "      <td>Comunidad de Madrid</td>\n",
       "      <td>2018-10-20 07:28:00</td>\n",
       "      <td>2018-10-23 19:13:00</td>\n",
       "      <td>2018-10-24 17:03:00</td>\n",
       "      <td>2018-01-11</td>\n",
       "      <td>26/10/2018 07:28</td>\n",
       "      <td>7,78</td>\n",
       "      <td>-287</td>\n",
       "      <td>19</td>\n",
       "    </tr>\n",
       "    <tr>\n",
       "      <th>112679</th>\n",
       "      <td>0a7db3996b88954c7aa763b5dd621d5b</td>\n",
       "      <td>53</td>\n",
       "      <td>Las Palmas de Gran Canaria</td>\n",
       "      <td>Islas Canarias</td>\n",
       "      <td>2019-02-13 18:30:00</td>\n",
       "      <td>2019-02-14 20:22:00</td>\n",
       "      <td>2019-03-29 20:26:00</td>\n",
       "      <td>2019-03-15</td>\n",
       "      <td>19/02/2019 17:30</td>\n",
       "      <td>25,66</td>\n",
       "      <td>-15</td>\n",
       "      <td>20</td>\n",
       "    </tr>\n",
       "    <tr>\n",
       "      <th>112683</th>\n",
       "      <td>1ed0c832c2dd99570a59260e71768bdf</td>\n",
       "      <td>29</td>\n",
       "      <td>Móstoles</td>\n",
       "      <td>Comunidad de Madrid</td>\n",
       "      <td>2018-11-14 12:15:00</td>\n",
       "      <td>2018-11-27 20:44:00</td>\n",
       "      <td>2018-12-19 19:37:00</td>\n",
       "      <td>2018-12-12</td>\n",
       "      <td>24/11/2018 12:15</td>\n",
       "      <td>31,93</td>\n",
       "      <td>-8</td>\n",
       "      <td>20</td>\n",
       "    </tr>\n",
       "    <tr>\n",
       "      <th>112694</th>\n",
       "      <td>274fa6071e5e17fe303b9748641082c8</td>\n",
       "      <td>51</td>\n",
       "      <td>Málaga</td>\n",
       "      <td>Andalucía</td>\n",
       "      <td>2018-12-19 18:50:00</td>\n",
       "      <td>2018-12-21 19:17:00</td>\n",
       "      <td>2018-12-26 18:42:00</td>\n",
       "      <td>2019-08-01</td>\n",
       "      <td>26/12/2018 18:50</td>\n",
       "      <td>7,78</td>\n",
       "      <td>217</td>\n",
       "      <td>19</td>\n",
       "    </tr>\n",
       "  </tbody>\n",
       "</table>\n",
       "<p>32039 rows × 12 columns</p>\n",
       "</div>"
      ],
      "text/plain": [
       "                             customer_id  geolocation_zip_code_prefix  \\\n",
       "3       b2b6027bc5c5109e529d4dc6358b12c3                           51   \n",
       "5       879864dab9bc3047522c92c82e1212b8                           55   \n",
       "8       5adf08e34b2e993982a47070956c5c65                           58   \n",
       "10      9fb35e4ed6f0a14a4977cd9aea4042bb                           29   \n",
       "13      eabebad39a88bb6f5b52376faec28612                           29   \n",
       "...                                  ...                          ...   \n",
       "112675  5eef6cce1f34954c9e7004332388ccc7                           51   \n",
       "112677  c6ece8a5137f3c9c3a3a12302a19a2ac                           29   \n",
       "112679  0a7db3996b88954c7aa763b5dd621d5b                           53   \n",
       "112683  1ed0c832c2dd99570a59260e71768bdf                           29   \n",
       "112694  274fa6071e5e17fe303b9748641082c8                           51   \n",
       "\n",
       "                     customer_city customer_autonomous_community  \\\n",
       "3                             Jaén                     Andalucía   \n",
       "5                       Valladolid               Castilla y León   \n",
       "8                           Coruña                       Galicia   \n",
       "10                          Getafe           Comunidad de Madrid   \n",
       "13                          Madrid           Comunidad de Madrid   \n",
       "...                            ...                           ...   \n",
       "112675                     Almería                     Andalucía   \n",
       "112677                      Madrid           Comunidad de Madrid   \n",
       "112679  Las Palmas de Gran Canaria                Islas Canarias   \n",
       "112683                    Móstoles           Comunidad de Madrid   \n",
       "112694                      Málaga                     Andalucía   \n",
       "\n",
       "         ts_order_approved ts_order_delivered_carrier  \\\n",
       "3      2019-03-13 17:29:00        2019-03-27 23:22:00   \n",
       "5      2018-09-14 18:25:00        2018-09-18 21:27:00   \n",
       "8      2019-01-18 12:56:00        2019-01-18 23:25:00   \n",
       "10     2018-11-27 18:01:00        2018-11-28 23:04:00   \n",
       "13     2019-07-03 16:15:00        2019-12-03 23:02:00   \n",
       "...                    ...                        ...   \n",
       "112675 2019-03-15 03:29:00        2019-03-16 23:15:00   \n",
       "112677 2018-10-20 07:28:00        2018-10-23 19:13:00   \n",
       "112679 2019-02-13 18:30:00        2019-02-14 20:22:00   \n",
       "112683 2018-11-14 12:15:00        2018-11-27 20:44:00   \n",
       "112694 2018-12-19 18:50:00        2018-12-21 19:17:00   \n",
       "\n",
       "       ts_order_delivered_customer ts_order_estimated_delivery  \\\n",
       "3              2019-03-28 16:04:00                  2019-10-04   \n",
       "5              2018-09-28 17:32:00                  2018-04-10   \n",
       "8              2019-01-26 15:17:00                  2019-02-20   \n",
       "10             2018-08-12 22:16:00                  2018-12-20   \n",
       "13             2019-03-15 00:46:00                  2019-03-19   \n",
       "...                            ...                         ...   \n",
       "112675         2019-03-23 02:47:00                  2019-03-29   \n",
       "112677         2018-10-24 17:03:00                  2018-01-11   \n",
       "112679         2019-03-29 20:26:00                  2019-03-15   \n",
       "112683         2018-12-19 19:37:00                  2018-12-12   \n",
       "112694         2018-12-26 18:42:00                  2019-08-01   \n",
       "\n",
       "       max_shipping_seller_date shipping_cost  diff  shipping_time  \n",
       "3              27/03/2019 16:31         23,36   189             23  \n",
       "5              20/09/2018 18:25         22,31  -172             21  \n",
       "8              30/01/2019 12:56          14,1    24             23  \n",
       "10             01/12/2018 18:01          15,1   129             23  \n",
       "13             13/03/2019 16:15           8,4     3             23  \n",
       "...                         ...           ...   ...            ...  \n",
       "112675         21/03/2019 03:29         14,22     5             23  \n",
       "112677         26/10/2018 07:28          7,78  -287             19  \n",
       "112679         19/02/2019 17:30         25,66   -15             20  \n",
       "112683         24/11/2018 12:15         31,93    -8             20  \n",
       "112694         26/12/2018 18:50          7,78   217             19  \n",
       "\n",
       "[32039 rows x 12 columns]"
      ]
     },
     "execution_count": 74,
     "metadata": {},
     "output_type": "execute_result"
    }
   ],
   "source": [
    "deliveries[deliveries['shipping_time']>18]"
   ]
  },
  {
   "cell_type": "code",
   "execution_count": 75,
   "metadata": {},
   "outputs": [],
   "source": [
    "## negative difference = orders that have been delivered BEFORE the estimated date, \n",
    "## positive difference == orders that have been delivered AFTER the estimated date"
   ]
  },
  {
   "cell_type": "markdown",
   "metadata": {},
   "source": [
    "Let's now find out which delivery times to the carrier/courier caused the most delivery delays to the end customer."
   ]
  },
  {
   "cell_type": "code",
   "execution_count": 76,
   "metadata": {},
   "outputs": [
    {
     "data": {
      "text/plain": [
       "0     1019\n",
       "1      622\n",
       "2      227\n",
       "3      102\n",
       "4       71\n",
       "5      119\n",
       "6      283\n",
       "7      387\n",
       "8      780\n",
       "9      965\n",
       "10    1150\n",
       "11    1609\n",
       "12    2203\n",
       "13    3052\n",
       "14    4140\n",
       "15    3414\n",
       "16    2276\n",
       "17    2261\n",
       "18    2832\n",
       "19    3094\n",
       "20    2684\n",
       "21    2238\n",
       "22    1907\n",
       "23    1438\n",
       "Name: shipping_time, dtype: int64"
      ]
     },
     "execution_count": 76,
     "metadata": {},
     "output_type": "execute_result"
    }
   ],
   "source": [
    "deliveries[deliveries['diff'] < 0]['shipping_time'].value_counts().sort_index()"
   ]
  },
  {
   "cell_type": "markdown",
   "metadata": {},
   "source": [
    "\n",
    "In the left column we see the time, and in the right column we see the amount of delayed deliveries.\n",
    "\n",
    "We can see a pattern, most of the delays happened after midday and before midnight.\n",
    "\n",
    "Then, we repeat the same analysis in order to find a pattern also in the early delivered goods."
   ]
  },
  {
   "cell_type": "code",
   "execution_count": 77,
   "metadata": {},
   "outputs": [
    {
     "data": {
      "text/plain": [
       "0     1789\n",
       "1      891\n",
       "2      449\n",
       "3      208\n",
       "4      115\n",
       "5      183\n",
       "6      500\n",
       "7      795\n",
       "8     1397\n",
       "9     1881\n",
       "10    2436\n",
       "11    3077\n",
       "12    3902\n",
       "13    5507\n",
       "14    7708\n",
       "15    6487\n",
       "16    4218\n",
       "17    4038\n",
       "18    5073\n",
       "19    5601\n",
       "20    4866\n",
       "21    4058\n",
       "22    3412\n",
       "23    2741\n",
       "Name: shipping_time, dtype: int64"
      ]
     },
     "execution_count": 77,
     "metadata": {},
     "output_type": "execute_result"
    }
   ],
   "source": [
    "deliveries[deliveries['diff'] >= 0]['shipping_time'].value_counts().sort_index()"
   ]
  },
  {
   "cell_type": "markdown",
   "metadata": {},
   "source": [
    "Knowing that in this dataset there are many more early (or on time) deliveries than late ones, direct comparison did not help us. Let's calculate the delay proportion between the schedules and plot it. To do this we'll need to create a small repeating loop, done below."
   ]
  },
  {
   "cell_type": "code",
   "execution_count": 78,
   "metadata": {},
   "outputs": [],
   "source": [
    "percentage_delay_shipping_time = {}\n",
    "\n",
    "for i in range(24):\n",
    "    hour = i+1\n",
    "    if hour < 24:\n",
    "        percentage_delay = len(deliveries[(deliveries['shipping_time'] == hour) & (deliveries['diff'] < 0)])/len(deliveries[(deliveries['shipping_time'] == hour)])\n",
    "        percentage_delay_shipping_time[hour] = percentage_delay\n",
    "    else:\n",
    "        percentage_delay = len(deliveries[(deliveries['shipping_time'] == 0) & (deliveries['diff'] < 0)])/len(deliveries[(deliveries['shipping_time'] == 0)])\n",
    "        percentage_delay_shipping_time[hour] = percentage_delay\n",
    "        "
   ]
  },
  {
   "cell_type": "markdown",
   "metadata": {},
   "source": [
    "Now let's create a table in DataFrame format to see the timetables and their percentage of delay, and plot it."
   ]
  },
  {
   "cell_type": "code",
   "execution_count": 79,
   "metadata": {},
   "outputs": [],
   "source": [
    "\n",
    "\n",
    "percentage_delay_shipping_time = pd.DataFrame.from_dict(percentage_delay_shipping_time, orient='index')\n",
    "percentage_delay_shipping_time['hour'] = percentage_delay_shipping_time.index\n",
    "percentage_delay_shipping_time.columns = 'delay percentage', 'shipping hour'\n",
    "percentage_delay_shipping_time = percentage_delay_shipping_time[['shipping hour', 'delay percentage']]\n",
    "\n"
   ]
  },
  {
   "cell_type": "code",
   "execution_count": 80,
   "metadata": {},
   "outputs": [],
   "source": [
    "\n",
    "percentage_delay_shipping_time['delay percentage'] = percentage_delay_shipping_time['delay percentage']*100\n"
   ]
  },
  {
   "cell_type": "code",
   "execution_count": 81,
   "metadata": {},
   "outputs": [
    {
     "data": {
      "text/plain": [
       "Text(0, 0.5, 'delay percentage')"
      ]
     },
     "execution_count": 81,
     "metadata": {},
     "output_type": "execute_result"
    },
    {
     "data": {
      "image/png": "[encoded data removed]",
      "text/plain": [
       "<Figure size 1296x360 with 1 Axes>"
      ]
     },
     "metadata": {
      "needs_background": "light"
     },
     "output_type": "display_data"
    }
   ],
   "source": [
    "\n",
    "plt.rcParams['figure.figsize'] = 18, 5\n",
    "percentage_delay_shipping_time.plot(x='shipping hour', y='delay percentage', legend=False)\n",
    "plt.xticks(percentage_delay_shipping_time['shipping hour'])\n",
    "plt.ylabel('delay percentage')\n",
    "\n"
   ]
  },
  {
   "cell_type": "markdown",
   "metadata": {},
   "source": [
    "Apparently, shipping times with the lowest delay percentage are from 9am to  10 am and 3 a.m.. Of course, is impossible for a seller to ship a product at 3 a.m., so we do not consider this time hour. \n",
    "\n",
    "Now, we checked out in which of these times, sellers of the spanish e-commerce ship the most products."
   ]
  },
  {
   "cell_type": "code",
   "execution_count": 82,
   "metadata": {},
   "outputs": [
    {
     "data": {
      "text/plain": [
       "Text(0.5, 1.0, 'Products dispatched to the carrier x dispatch time')"
      ]
     },
     "execution_count": 82,
     "metadata": {},
     "output_type": "execute_result"
    },
    {
     "data": {
      "image/png": "[encoded data removed]",
      "text/plain": [
       "<Figure size 1296x360 with 1 Axes>"
      ]
     },
     "metadata": {
      "needs_background": "light"
     },
     "output_type": "display_data"
    }
   ],
   "source": [
    "deliveries['shipping_time'].value_counts().plot(kind='bar', rot=0)\n",
    "plt.ylabel('Number of shipped products')\n",
    "plt.xlabel('Dispatch time')\n",
    "plt.title('Products dispatched to the carrier x dispatch time')\n"
   ]
  },
  {
   "cell_type": "markdown",
   "metadata": {},
   "source": [
    "Our sellers have been dispatching most products at 2pm, 3pm , which are not the best performing times for delivery without delay. There is likely to be a reduction in the delays that exist today if sellers are directed to make deliveries to the carrier/post office at the times of  9am, 10am . But this hypothesis needs to be tested.\n",
    "\n",
    "Let's use a test statistic for that hypothesis.\n"
   ]
  },
  {
   "cell_type": "code",
   "execution_count": 83,
   "metadata": {},
   "outputs": [],
   "source": [
    "\n",
    "\n",
    "group_a = deliveries[(deliveries['diff'] < 0) & ((deliveries['shipping_time'] == 14) | (deliveries['shipping_time'] == 15) )]\n",
    "\n"
   ]
  },
  {
   "cell_type": "code",
   "execution_count": 84,
   "metadata": {},
   "outputs": [],
   "source": [
    "\n",
    "group_b = deliveries[(deliveries['diff'] < 0) &  ((deliveries['shipping_time'] == 9) | (deliveries['shipping_time'] == 10))]\n",
    "\n"
   ]
  },
  {
   "cell_type": "code",
   "execution_count": 85,
   "metadata": {},
   "outputs": [],
   "source": [
    "xa = group_a['diff'].mean()"
   ]
  },
  {
   "cell_type": "code",
   "execution_count": 86,
   "metadata": {},
   "outputs": [],
   "source": [
    "xb = group_b['diff'].mean()"
   ]
  },
  {
   "cell_type": "code",
   "execution_count": 87,
   "metadata": {},
   "outputs": [],
   "source": [
    "stat_test=xb-xa"
   ]
  },
  {
   "cell_type": "code",
   "execution_count": 88,
   "metadata": {},
   "outputs": [
    {
     "data": {
      "text/plain": [
       "0.7670583618279352"
      ]
     },
     "execution_count": 88,
     "metadata": {},
     "output_type": "execute_result"
    }
   ],
   "source": [
    "stat_test"
   ]
  },
  {
   "cell_type": "code",
   "execution_count": 89,
   "metadata": {},
   "outputs": [],
   "source": [
    "groups = pd.concat([group_a, group_b], ignore_index=True)"
   ]
  },
  {
   "cell_type": "code",
   "execution_count": 90,
   "metadata": {},
   "outputs": [
    {
     "data": {
      "text/plain": [
       "array([14, 15, 10,  9], dtype=int64)"
      ]
     },
     "execution_count": 90,
     "metadata": {},
     "output_type": "execute_result"
    }
   ],
   "source": [
    "groups['shipping_time'].unique()"
   ]
  },
  {
   "cell_type": "code",
   "execution_count": 91,
   "metadata": {},
   "outputs": [],
   "source": [
    "allgroups = groups['diff'].to_list()"
   ]
  },
  {
   "cell_type": "code",
   "execution_count": 92,
   "metadata": {},
   "outputs": [],
   "source": [
    "meandif = []\n",
    "\n",
    "for i in range(1000):\n",
    "    group_a = []\n",
    "    group_b = []\n",
    "    for value in allgroups:\n",
    "        group = np.random.rand()\n",
    "        if group >= 0.5:\n",
    "            group_a.append(value)\n",
    "        else:\n",
    "            group_b.append(value)\n",
    "    \n",
    "    mean_a = np.mean(group_a)\n",
    "    mean_b = np.mean(group_b)\n",
    "    mean_difference = mean_b = mean_a\n",
    "    meandif.append(mean_difference)"
   ]
  },
  {
   "cell_type": "code",
   "execution_count": 93,
   "metadata": {},
   "outputs": [],
   "source": [
    "\n",
    "\n",
    "sampling_dist = {}\n",
    "\n",
    "for value1 in meandif:\n",
    "    if sampling_dist.get(value1, False):\n",
    "        newval = sampling_dist.get(value1)\n",
    "        newval += 1\n",
    "    else:\n",
    "        sampling_dist[value1] = 1\n",
    "\n"
   ]
  },
  {
   "cell_type": "code",
   "execution_count": 94,
   "metadata": {},
   "outputs": [],
   "source": [
    "\n",
    "\n",
    "freqs = []\n",
    "\n",
    "for key in sampling_dist:\n",
    "    if key >= stat_test:\n",
    "        freqs.append(key)\n",
    "\n",
    "p_value = sum(freqs)\n",
    "p_value /= 1000\n",
    "\n"
   ]
  },
  {
   "cell_type": "code",
   "execution_count": 95,
   "metadata": {},
   "outputs": [
    {
     "data": {
      "text/plain": [
       "0.0"
      ]
     },
     "execution_count": 95,
     "metadata": {},
     "output_type": "execute_result"
    }
   ],
   "source": [
    "p_value"
   ]
  },
  {
   "cell_type": "markdown",
   "metadata": {},
   "source": [
    "With p_value equal to 0.0, we can say that it is statistically relevant the difference in the outcome in delivery delays between groups A and B, and these differences are not given by chance. That is, the hypothesis has statistical power.\n",
    "\n",
    "\n",
    "There is a good opportunity to reduce the amount of late deliveries by simply switching the most frequent times of dispatching goods to the carrier. In the interval that this data was generated spanish e-commerce sellers were using the 2pm, 3pm  times to ship most goods, but could have had fewer delays if they used the 9am, 10am."
   ]
  }
 ],
 "metadata": {
  "kernelspec": {
   "display_name": "Python 3",
   "language": "python",
   "name": "python3"
  },
  "language_info": {
   "codemirror_mode": {
    "name": "ipython",
    "version": 3
   },
   "file_extension": ".py",
   "mimetype": "text/x-python",
   "name": "python",
   "nbconvert_exporter": "python",
   "pygments_lexer": "ipython3",
   "version": "3.8.5"
  }
 },
 "nbformat": 4,
 "nbformat_minor": 4
}
